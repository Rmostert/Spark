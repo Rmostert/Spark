{
 "cells": [
  {
   "cell_type": "markdown",
   "metadata": {},
   "source": [
    "# Background\n",
    "\n",
    "\n",
    "\n",
    "A large technology firm needs your help- they've been hacked! Luckily their forensic engineers have grabbed valuable data about the hacks, including information like session time,locations, wpm typing speed, etc. The forensic engineer relates to you what she has been able to figure out so far, she has been able to grab meta data of each session that the hackers used to connect to their servers. These are the features of the data:\n",
    "\n",
    "* Session_Connection_Time': How long the session lasted in minutes\n",
    "* Bytes Transferred: Number of MB transferred during session\n",
    "* Kali_Trace_Used: Indicates if the hacker was using Kali Linux\n",
    "* Servers_Corrupted: Number of server corrupted during the attack\n",
    "* Pages_Corrupted: Number of pages illegally accessed\n",
    "* Location: Location attack came from (Probably useless because the hackers used VPNs)\n",
    "* WPM_Typing_Speed: Their estimated typing speed based on session logs.\n",
    "\n",
    "\n",
    "The technology firm has 3 potential hackers that perpetrated the attack. They're certain of the first two hackers but they aren't very sure if the third hacker was involved or not. They have requested your help! Can you help figure out whether or not the third suspect had anything to do with the attacks, or was it just two hackers? \n",
    "\n",
    "**One last key fact, the forensic engineer knows that the hackers trade off attacks. Meaning they should each have roughly the same amount of attacks. For example if there were 100 total attacks, then in a 2 hacker situation each should have about 50 hacks, in a three hacker situation each would have about 33 hacks. The engineer believes this is the key element to solving this, but doesn't know how to distinguish this unlabeled data into groups of hackers.**"
   ]
  },
  {
   "cell_type": "markdown",
   "metadata": {},
   "source": [
    "Let's start by starting a new Spark sesison and importing the required libaries "
   ]
  },
  {
   "cell_type": "code",
   "execution_count": 18,
   "metadata": {
    "collapsed": true
   },
   "outputs": [],
   "source": [
    "from pyspark.sql import SparkSession\n",
    "from pyspark.ml.clustering import KMeans\n",
    "from pyspark.ml.feature import VectorAssembler, StandardScaler,PCA\n",
    "from pyspark.sql.functions import udf,  monotonically_increasing_id, format_number, col\n",
    "from pyspark.sql.types import FloatType\n",
    "import pandas as pd\n",
    "import seaborn as sns"
   ]
  },
  {
   "cell_type": "code",
   "execution_count": 3,
   "metadata": {
    "collapsed": true
   },
   "outputs": [],
   "source": [
    "spark = SparkSession.builder.appName('Hack').getOrCreate()"
   ]
  },
  {
   "cell_type": "code",
   "execution_count": 11,
   "metadata": {
    "collapsed": true
   },
   "outputs": [],
   "source": [
    "hack_data = spark.read.csv(\"/user/a208669/hack_data.csv\",header=True,inferSchema=True)"
   ]
  },
  {
   "cell_type": "markdown",
   "metadata": {},
   "source": [
    "Let's have a look at the fields and some of the data"
   ]
  },
  {
   "cell_type": "code",
   "execution_count": 12,
   "metadata": {},
   "outputs": [
    {
     "name": "stdout",
     "output_type": "stream",
     "text": [
      "root\n",
      " |-- Session_Connection_Time: double (nullable = true)\n",
      " |-- Bytes Transferred: double (nullable = true)\n",
      " |-- Kali_Trace_Used: integer (nullable = true)\n",
      " |-- Servers_Corrupted: double (nullable = true)\n",
      " |-- Pages_Corrupted: double (nullable = true)\n",
      " |-- Location: string (nullable = true)\n",
      " |-- WPM_Typing_Speed: double (nullable = true)\n",
      "\n"
     ]
    }
   ],
   "source": [
    "hack_data.printSchema()"
   ]
  },
  {
   "cell_type": "code",
   "execution_count": 13,
   "metadata": {},
   "outputs": [
    {
     "name": "stdout",
     "output_type": "stream",
     "text": [
      "+-----------------------+-----------------+---------------+-----------------+---------------+--------------------+----------------+\n",
      "|Session_Connection_Time|Bytes Transferred|Kali_Trace_Used|Servers_Corrupted|Pages_Corrupted|            Location|WPM_Typing_Speed|\n",
      "+-----------------------+-----------------+---------------+-----------------+---------------+--------------------+----------------+\n",
      "|                    8.0|           391.09|              1|             2.96|            7.0|            Slovenia|           72.37|\n",
      "|                   20.0|           720.99|              0|             3.04|            9.0|British Virgin Is...|           69.08|\n",
      "|                   31.0|           356.32|              1|             3.71|            8.0|             Tokelau|           70.58|\n",
      "|                    2.0|           228.08|              1|             2.48|            8.0|             Bolivia|            70.8|\n",
      "|                   20.0|            408.5|              0|             3.57|            8.0|                Iraq|           71.28|\n",
      "|                    1.0|           390.69|              1|             2.79|            9.0|    Marshall Islands|           71.57|\n",
      "|                   18.0|           342.97|              1|              5.1|            7.0|             Georgia|           72.32|\n",
      "|                   22.0|           101.61|              1|             3.03|            7.0|         Timor-Leste|           72.03|\n",
      "|                   15.0|           275.53|              1|             3.53|            8.0|Palestinian Terri...|           70.17|\n",
      "|                   12.0|           424.83|              1|             2.53|            8.0|          Bangladesh|           69.99|\n",
      "|                   15.0|           249.09|              1|             3.39|            9.0|Northern Mariana ...|           70.77|\n",
      "|                   32.0|           242.48|              0|             4.24|            8.0|            Zimbabwe|           67.93|\n",
      "|                   23.0|           514.54|              0|             3.18|            8.0|         Isle of Man|           68.56|\n",
      "|                    9.0|           284.77|              0|             3.12|            9.0|Sao Tome and Prin...|           70.82|\n",
      "|                   27.0|           779.25|              1|             2.37|            8.0|              Greece|           72.73|\n",
      "|                   12.0|           307.31|              1|             3.22|            7.0|     Solomon Islands|           67.95|\n",
      "|                   21.0|           355.94|              1|              2.0|            7.0|       Guinea-Bissau|            72.0|\n",
      "|                   10.0|           372.65|              0|             3.33|            7.0|        Burkina Faso|           69.19|\n",
      "|                   20.0|           347.23|              1|             2.33|            7.0|            Mongolia|           70.41|\n",
      "|                   22.0|           456.57|              0|             1.52|            8.0|             Nigeria|           69.35|\n",
      "+-----------------------+-----------------+---------------+-----------------+---------------+--------------------+----------------+\n",
      "only showing top 20 rows\n",
      "\n"
     ]
    }
   ],
   "source": [
    "hack_data.show()"
   ]
  },
  {
   "cell_type": "code",
   "execution_count": 14,
   "metadata": {
    "collapsed": true
   },
   "outputs": [],
   "source": [
    "cols = [x for x in hack_data.columns if x != 'Location']"
   ]
  },
  {
   "cell_type": "code",
   "execution_count": 20,
   "metadata": {},
   "outputs": [
    {
     "name": "stdout",
     "output_type": "stream",
     "text": [
      "+-------+-----------------------+-----------------+---------------+-----------------+---------------+----------------+\n",
      "|summary|Session_Connection_Time|Bytes Transferred|Kali_Trace_Used|Servers_Corrupted|Pages_Corrupted|WPM_Typing_Speed|\n",
      "+-------+-----------------------+-----------------+---------------+-----------------+---------------+----------------+\n",
      "|  count|                 334.00|           334.00|         334.00|           334.00|         334.00|          334.00|\n",
      "|   mean|                  30.01|           607.25|           0.51|             5.26|          10.84|           57.34|\n",
      "| stddev|                  14.09|           286.34|           0.50|             2.30|           3.06|           13.41|\n",
      "|    min|                   1.00|            10.00|           0.00|             1.00|           6.00|           40.00|\n",
      "|    max|                  60.00|         1,330.50|           1.00|            10.00|          15.00|           75.00|\n",
      "+-------+-----------------------+-----------------+---------------+-----------------+---------------+----------------+\n",
      "\n"
     ]
    }
   ],
   "source": [
    "summary_data = hack_data.select(cols).describe()\n",
    "summary_data.select(summary_data['summary'],*(format_number(col(c).cast(\"float\"),2)\\\n",
    "                                                              .alias(c) for c in cols)).show()"
   ]
  },
  {
   "cell_type": "markdown",
   "metadata": {},
   "source": [
    "Fortunately no missing data to deal with. Next we'll get the dat in the required format for Spark to work with"
   ]
  },
  {
   "cell_type": "code",
   "execution_count": 21,
   "metadata": {
    "collapsed": true
   },
   "outputs": [],
   "source": [
    "final_data  = VectorAssembler(inputCols=cols,outputCol = 'features').transform(hack_data)"
   ]
  },
  {
   "cell_type": "markdown",
   "metadata": {},
   "source": [
    "We'll standaridize the data so that each variable has the same variance. This is to insure that one or more variable doesn't dominate the clustering solution"
   ]
  },
  {
   "cell_type": "code",
   "execution_count": 22,
   "metadata": {
    "collapsed": true
   },
   "outputs": [],
   "source": [
    "scaler = StandardScaler(inputCol='features',outputCol='scaledFeatures',withMean=False,withStd=True)\n",
    "final_data = scaler.fit(final_data).transform(final_data)"
   ]
  },
  {
   "cell_type": "code",
   "execution_count": 23,
   "metadata": {},
   "outputs": [
    {
     "name": "stdout",
     "output_type": "stream",
     "text": [
      "+--------------------+--------------------+\n",
      "|            features|      scaledFeatures|\n",
      "+--------------------+--------------------+\n",
      "|[8.0,391.09,1.0,2...|[0.56785108466505...|\n",
      "|[20.0,720.99,0.0,...|[1.41962771166263...|\n",
      "|[31.0,356.32,1.0,...|[2.20042295307707...|\n",
      "|[2.0,228.08,1.0,2...|[0.14196277116626...|\n",
      "|[20.0,408.5,0.0,3...|[1.41962771166263...|\n",
      "|[1.0,390.69,1.0,2...|[0.07098138558313...|\n",
      "|[18.0,342.97,1.0,...|[1.27766494049636...|\n",
      "|[22.0,101.61,1.0,...|[1.56159048282889...|\n",
      "|[15.0,275.53,1.0,...|[1.06472078374697...|\n",
      "|[12.0,424.83,1.0,...|[0.85177662699757...|\n",
      "|[15.0,249.09,1.0,...|[1.06472078374697...|\n",
      "|[32.0,242.48,0.0,...|[2.27140433866020...|\n",
      "|[23.0,514.54,0.0,...|[1.63257186841202...|\n",
      "|[9.0,284.77,0.0,3...|[0.63883247024818...|\n",
      "|[27.0,779.25,1.0,...|[1.91649741074455...|\n",
      "|[12.0,307.31,1.0,...|[0.85177662699757...|\n",
      "|[21.0,355.94,1.0,...|[1.49060909724576...|\n",
      "|[10.0,372.65,0.0,...|[0.70981385583131...|\n",
      "|[20.0,347.23,1.0,...|[1.41962771166263...|\n",
      "|[22.0,456.57,0.0,...|[1.56159048282889...|\n",
      "+--------------------+--------------------+\n",
      "only showing top 20 rows\n",
      "\n"
     ]
    }
   ],
   "source": [
    "final_data.select('features','scaledFeatures').show()"
   ]
  },
  {
   "cell_type": "markdown",
   "metadata": {},
   "source": [
    "Firstly we'll make use of a k mean clustering algorithm with the number of clusters set equal to 3"
   ]
  },
  {
   "cell_type": "code",
   "execution_count": 24,
   "metadata": {
    "collapsed": true
   },
   "outputs": [],
   "source": [
    "kmeans = KMeans(featuresCol='scaledFeatures', k=3,seed=38298)"
   ]
  },
  {
   "cell_type": "code",
   "execution_count": 25,
   "metadata": {
    "collapsed": true
   },
   "outputs": [],
   "source": [
    "model = kmeans.fit(final_data)"
   ]
  },
  {
   "cell_type": "markdown",
   "metadata": {},
   "source": [
    "The Within sum of squared errors is"
   ]
  },
  {
   "cell_type": "code",
   "execution_count": 27,
   "metadata": {},
   "outputs": [
    {
     "name": "stdout",
     "output_type": "stream",
     "text": [
      "wsse: 434.1492898715845\n"
     ]
    }
   ],
   "source": [
    "print('wsse: {}'.format(model.computeCost(final_data)))"
   ]
  },
  {
   "cell_type": "markdown",
   "metadata": {},
   "source": [
    "Next we can calculate the number of attacks per cluster"
   ]
  },
  {
   "cell_type": "code",
   "execution_count": 30,
   "metadata": {
    "collapsed": true
   },
   "outputs": [],
   "source": [
    "results = model.transform(final_data).withColumn('row_index', monotonically_increasing_id())"
   ]
  },
  {
   "cell_type": "code",
   "execution_count": 31,
   "metadata": {},
   "outputs": [
    {
     "name": "stdout",
     "output_type": "stream",
     "text": [
      "+----------+-----+\n",
      "|prediction|count|\n",
      "+----------+-----+\n",
      "|         1|  167|\n",
      "|         2|   84|\n",
      "|         0|   83|\n",
      "+----------+-----+\n",
      "\n"
     ]
    }
   ],
   "source": [
    "results.groupBy('prediction').count().show()"
   ]
  },
  {
   "cell_type": "markdown",
   "metadata": {},
   "source": [
    "Looks like only 2 hackers were involved. Let's confirm it using Principal component analysis"
   ]
  },
  {
   "cell_type": "code",
   "execution_count": 40,
   "metadata": {
    "collapsed": true
   },
   "outputs": [],
   "source": [
    "prin_comp_model = PCA(k=3, inputCol=\"scaledFeatures\", outputCol=\"pca\")\n",
    "pca_results = prin_comp_model.fit(final_data)\n"
   ]
  },
  {
   "cell_type": "code",
   "execution_count": 41,
   "metadata": {},
   "outputs": [
    {
     "data": {
      "text/plain": [
       "DenseVector([0.7238, 0.1668, 0.0521])"
      ]
     },
     "execution_count": 41,
     "metadata": {},
     "output_type": "execute_result"
    }
   ],
   "source": [
    "pca_results.explainedVariance"
   ]
  },
  {
   "cell_type": "markdown",
   "metadata": {},
   "source": [
    "We see almost 90% of the variance in the data is explained by the first two prinicipal components. Let's get the principal vectors"
   ]
  },
  {
   "cell_type": "code",
   "execution_count": 42,
   "metadata": {
    "collapsed": true
   },
   "outputs": [],
   "source": [
    "data_with_pca =pca_results.transform(final_data)\n"
   ]
  },
  {
   "cell_type": "code",
   "execution_count": 43,
   "metadata": {},
   "outputs": [
    {
     "name": "stdout",
     "output_type": "stream",
     "text": [
      "+--------------------------------------------------------------+\n",
      "|pca                                                           |\n",
      "+--------------------------------------------------------------+\n",
      "|[0.03175378235005155,2.08479522367246,-1.1012050989195865]    |\n",
      "|[-1.201851068618815,0.10296428435190434,-1.858161714809445]   |\n",
      "|[-0.9909243808826815,2.0355570670115193,-0.34344645967896953] |\n",
      "|[0.3404179776920393,2.0532259801189046,-0.7129220897841364]   |\n",
      "|[-0.6258173324836158,0.06429338399282358,-0.8902629103290762] |\n",
      "|[-0.04863120599925841,2.067856922427926,-1.1788881549277217]  |\n",
      "|[-0.6287185401921063,2.050366188587716,-0.509283503240472]    |\n",
      "|[-0.009233620615463511,2.0230469786739564,0.12794117643093939]|\n",
      "|[-0.358021040905518,2.0387335121586,-0.45923815588743666]     |\n",
      "|[-0.2914309910347539,2.0733098004622015,-1.0941732695889383]  |\n",
      "+--------------------------------------------------------------+\n",
      "only showing top 10 rows\n",
      "\n"
     ]
    }
   ],
   "source": [
    "data_with_pca.select('pca').show(n=10,truncate=False)"
   ]
  },
  {
   "cell_type": "code",
   "execution_count": 172,
   "metadata": {},
   "outputs": [
    {
     "data": {
      "text/plain": [
       "[('Session_Connection_Time', 'double'),\n",
       " ('Bytes Transferred', 'double'),\n",
       " ('Kali_Trace_Used', 'int'),\n",
       " ('Servers_Corrupted', 'double'),\n",
       " ('Pages_Corrupted', 'double'),\n",
       " ('Location', 'string'),\n",
       " ('WPM_Typing_Speed', 'double'),\n",
       " ('features', 'vector'),\n",
       " ('scaledFeatures', 'vector'),\n",
       " ('pca', 'vector')]"
      ]
     },
     "execution_count": 172,
     "metadata": {},
     "output_type": "execute_result"
    }
   ],
   "source": [
    "data_with_pca.dtypes"
   ]
  },
  {
   "cell_type": "markdown",
   "metadata": {},
   "source": [
    "We'll have to extract the first two principal component vectors from the pcs field (which currently is a vector)"
   ]
  },
  {
   "cell_type": "code",
   "execution_count": 44,
   "metadata": {
    "collapsed": true
   },
   "outputs": [],
   "source": [
    "split1_udf = udf(lambda value: value[0].item(), FloatType())\n",
    "split2_udf = udf(lambda value: value[1].item(), FloatType())\n",
    "\n",
    "First_2_comp = data_with_pca.select(split1_udf('pca').alias('pc1'), split2_udf('pca').alias('pc2'))\\\n",
    "                            .withColumn('row_index', monotonically_increasing_id())"
   ]
  },
  {
   "cell_type": "code",
   "execution_count": 46,
   "metadata": {},
   "outputs": [
    {
     "name": "stdout",
     "output_type": "stream",
     "text": [
      "+------------+-----------+---------+\n",
      "|         pc1|        pc2|row_index|\n",
      "+------------+-----------+---------+\n",
      "| 0.031753782|  2.0847952|        0|\n",
      "|   -1.201851| 0.10296428|        1|\n",
      "| -0.99092436|   2.035557|        2|\n",
      "|  0.34041798|   2.053226|        3|\n",
      "| -0.62581736|0.064293385|        4|\n",
      "|-0.048631206|   2.067857|        5|\n",
      "| -0.62871855|  2.0503662|        6|\n",
      "|-0.009233621|   2.023047|        7|\n",
      "| -0.35802105|  2.0387335|        8|\n",
      "| -0.29143098|    2.07331|        9|\n",
      "|   -0.422941|   2.024986|       10|\n",
      "|  -1.0058362|0.013882034|       11|\n",
      "|  -0.8906927| 0.07624744|       12|\n",
      "| -0.18611573|0.045908768|       13|\n",
      "|  -1.1405135|  2.1226203|       14|\n",
      "| -0.17657569|  2.0566304|       15|\n",
      "| -0.14512442|  2.0731936|       16|\n",
      "| -0.13912936|  0.0777961|       17|\n",
      "| -0.22175823|  2.0670612|       18|\n",
      "| -0.42366463| 0.08239772|       19|\n",
      "+------------+-----------+---------+\n",
      "only showing top 20 rows\n",
      "\n"
     ]
    }
   ],
   "source": [
    "First_2_comp.show()"
   ]
  },
  {
   "cell_type": "markdown",
   "metadata": {},
   "source": [
    "Now we can join it back to the dataset containing the cluster assignment, by using the row index"
   ]
  },
  {
   "cell_type": "code",
   "execution_count": 47,
   "metadata": {
    "collapsed": true
   },
   "outputs": [],
   "source": [
    "results2= results.join(First_2_comp,on='row_index')"
   ]
  },
  {
   "cell_type": "code",
   "execution_count": 48,
   "metadata": {},
   "outputs": [
    {
     "name": "stdout",
     "output_type": "stream",
     "text": [
      "+----------+------------+-----------+\n",
      "|prediction|         pc1|        pc2|\n",
      "+----------+------------+-----------+\n",
      "|         0| 0.031753782|  2.0847952|\n",
      "|         2|   -1.201851| 0.10296428|\n",
      "|         0| -0.99092436|   2.035557|\n",
      "|         0|  0.34041798|   2.053226|\n",
      "|         2| -0.62581736|0.064293385|\n",
      "|         0|-0.048631206|   2.067857|\n",
      "|         0| -0.62871855|  2.0503662|\n",
      "|         0|-0.009233621|   2.023047|\n",
      "|         0| -0.35802105|  2.0387335|\n",
      "|         0| -0.29143098|    2.07331|\n",
      "|         0|   -0.422941|   2.024986|\n",
      "|         2|  -1.0058362|0.013882034|\n",
      "|         2|  -0.8906927| 0.07624744|\n",
      "|         2| -0.18611573|0.045908768|\n",
      "|         0|  -1.1405135|  2.1226203|\n",
      "|         0| -0.17657569|  2.0566304|\n",
      "|         0| -0.14512442|  2.0731936|\n",
      "|         2| -0.13912936|  0.0777961|\n",
      "|         0| -0.22175823|  2.0670612|\n",
      "|         2| -0.42366463| 0.08239772|\n",
      "+----------+------------+-----------+\n",
      "only showing top 20 rows\n",
      "\n"
     ]
    }
   ],
   "source": [
    "results2.select('prediction','pc1','pc2').show()"
   ]
  },
  {
   "cell_type": "markdown",
   "metadata": {},
   "source": [
    "Lastly we convert the dataframe to a Pandas dataframe for ease of plotting"
   ]
  },
  {
   "cell_type": "code",
   "execution_count": 49,
   "metadata": {
    "collapsed": true
   },
   "outputs": [],
   "source": [
    "pandas_df = results2.toPandas()"
   ]
  },
  {
   "cell_type": "code",
   "execution_count": 50,
   "metadata": {},
   "outputs": [
    {
     "name": "stderr",
     "output_type": "stream",
     "text": [
      "/opt/anaconda2/envs/py345/lib/python3.4/site-packages/matplotlib/font_manager.py:1297: UserWarning: findfont: Font family ['sans-serif'] not found. Falling back to DejaVu Sans\n",
      "  (prop.get_family(), self.defaultFamily[fontext]))\n"
     ]
    },
    {
     "data": {
      "image/png": "[encoded data removed]",
      "text/plain": [
       "<matplotlib.figure.Figure at 0x7fba1f6779e8>"
      ]
     },
     "metadata": {},
     "output_type": "display_data"
    }
   ],
   "source": [
    "sns.plt.close()\n",
    "sns.lmplot(x=\"pc1\", y=\"pc2\",data=pandas_df,fit_reg=False,hue=\"prediction\")\n",
    "sns.plt.show()"
   ]
  },
  {
   "cell_type": "markdown",
   "metadata": {},
   "source": [
    "So there was either 4 hackers or we can trust the engineer's opinion that there were possibly only 2 hackers"
   ]
  },
  {
   "cell_type": "code",
   "execution_count": 52,
   "metadata": {
    "collapsed": true
   },
   "outputs": [],
   "source": [
    "kmeans2 = KMeans(featuresCol='scaledFeatures', k=2,seed=38298)\n",
    "model2 = kmeans2.fit(final_data)"
   ]
  },
  {
   "cell_type": "code",
   "execution_count": 53,
   "metadata": {},
   "outputs": [
    {
     "name": "stdout",
     "output_type": "stream",
     "text": [
      "wsse: 601.7707512676716\n"
     ]
    }
   ],
   "source": [
    "print('wsse: {}'.format(model2.computeCost(final_data)))"
   ]
  },
  {
   "cell_type": "code",
   "execution_count": 54,
   "metadata": {
    "collapsed": true
   },
   "outputs": [],
   "source": [
    "results2 = model2.transform(final_data)"
   ]
  },
  {
   "cell_type": "code",
   "execution_count": 55,
   "metadata": {},
   "outputs": [
    {
     "name": "stdout",
     "output_type": "stream",
     "text": [
      "+----------+-----+\n",
      "|prediction|count|\n",
      "+----------+-----+\n",
      "|         1|  167|\n",
      "|         0|  167|\n",
      "+----------+-----+\n",
      "\n"
     ]
    }
   ],
   "source": [
    "results2.groupBy('prediction').count().show()"
   ]
  },
  {
   "cell_type": "markdown",
   "metadata": {
    "collapsed": true
   },
   "source": [
    "Now we see that there is exactly the same number of observations in each of the 2 clusters, which confirms the engineer's premise that the hackers trade off attacks"
   ]
  }
 ],
 "metadata": {
  "kernelspec": {
   "display_name": "Python3.4.5_Spark2.1.0",
   "language": "python",
   "name": "py345_spark210"
  },
  "language_info": {
   "codemirror_mode": {
    "name": "ipython",
    "version": 3
   },
   "file_extension": ".py",
   "mimetype": "text/x-python",
   "name": "python",
   "nbconvert_exporter": "python",
   "pygments_lexer": "ipython3",
   "version": "3.4.5"
  }
 },
 "nbformat": 4,
 "nbformat_minor": 2
}
