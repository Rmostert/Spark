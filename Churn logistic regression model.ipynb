{
 "cells": [
  {
   "cell_type": "markdown",
   "metadata": {},
   "source": [
    "## Background\n",
    "\n",
    "A marketing agency has many customers that use their service to produce ads for the client/customer websites. They've noticed that they have quite a bit of churn in clients. They basically randomly assign account managers right now, but want you to create a machine learning model that will help predict which customers will churn (stop buying their service) so that they can correctly assign the customers most at risk to churn an account manager. \n",
    "\n",
    "The data is saved as customer_churn.csv. Here are the fields and their definitions:\n",
    "\n",
    "    Name : Name of the latest contact at Company\n",
    "    Age: Customer Age\n",
    "    Total_Purchase: Total Ads Purchased\n",
    "    Account_Manager: Binary 0=No manager, 1= Account manager assigned\n",
    "    Years: Totaly Years as a customer\n",
    "    Num_sites: Number of websites that use the service.\n",
    "    Onboard_date: Date that the name of the latest contact was onboarded\n",
    "    Location: Client HQ Address\n",
    "    Company: Name of Client Company\n",
    "    \n"
   ]
  },
  {
   "cell_type": "markdown",
   "metadata": {},
   "source": [
    "First we import the libraries that we'll need"
   ]
  },
  {
   "cell_type": "code",
   "execution_count": 98,
   "metadata": {
    "collapsed": true
   },
   "outputs": [],
   "source": [
    "from pyspark.sql import SparkSession\n",
    "from pyspark.ml.classification import LogisticRegression\n",
    "from pyspark.sql.functions import format_number, col, desc,udf, count, sum\n",
    "from pyspark.ml.feature import VectorAssembler, QuantileDiscretizer\n",
    "from pyspark.ml.evaluation import BinaryClassificationEvaluator\n",
    "from pyspark.sql.types import DoubleType \n",
    "import seaborn as sns\n",
    "import pandas as pd\n",
    "import numpy as np\n",
    "from matplotlib import pyplot as plt\n",
    "\n",
    "%matplotlib inline"
   ]
  },
  {
   "cell_type": "markdown",
   "metadata": {},
   "source": [
    "Next we start a new Spark session and read in the data which is stores in a CSV fromat on HDFS"
   ]
  },
  {
   "cell_type": "code",
   "execution_count": 4,
   "metadata": {
    "collapsed": true
   },
   "outputs": [],
   "source": [
    "spark = SparkSession.builder.appName('churn').getOrCreate()"
   ]
  },
  {
   "cell_type": "code",
   "execution_count": 5,
   "metadata": {
    "collapsed": true
   },
   "outputs": [],
   "source": [
    "churn_data = spark.read.csv('/user/a208669/customer_churn.csv',inferSchema=True,header=True)"
   ]
  },
  {
   "cell_type": "markdown",
   "metadata": {},
   "source": [
    "We quickly have a look at the variables and variable types to see whether it was succcesfully imported"
   ]
  },
  {
   "cell_type": "code",
   "execution_count": 6,
   "metadata": {},
   "outputs": [
    {
     "name": "stdout",
     "output_type": "stream",
     "text": [
      "root\n",
      " |-- Names: string (nullable = true)\n",
      " |-- Age: double (nullable = true)\n",
      " |-- Total_Purchase: double (nullable = true)\n",
      " |-- Account_Manager: integer (nullable = true)\n",
      " |-- Years: double (nullable = true)\n",
      " |-- Num_Sites: double (nullable = true)\n",
      " |-- Onboard_date: timestamp (nullable = true)\n",
      " |-- Location: string (nullable = true)\n",
      " |-- Company: string (nullable = true)\n",
      " |-- Churn: integer (nullable = true)\n",
      "\n"
     ]
    }
   ],
   "source": [
    "churn_data.printSchema()"
   ]
  },
  {
   "cell_type": "markdown",
   "metadata": {},
   "source": [
    "Next we can have a look at the first row of the data "
   ]
  },
  {
   "cell_type": "code",
   "execution_count": 7,
   "metadata": {},
   "outputs": [
    {
     "data": {
      "text/plain": [
       "[Row(Names='Cameron Williams', Age=42.0, Total_Purchase=11066.8, Account_Manager=0, Years=7.22, Num_Sites=8.0, Onboard_date=datetime.datetime(2013, 8, 30, 7, 0, 40), Location='10265 Elizabeth Mission Barkerburgh, AK 89518', Company='Harvey LLC', Churn=1)]"
      ]
     },
     "execution_count": 7,
     "metadata": {},
     "output_type": "execute_result"
    }
   ],
   "source": [
    "churn_data.take(1)"
   ]
  },
  {
   "cell_type": "markdown",
   "metadata": {},
   "source": [
    "Next we can draw up some summary statistics of the numerical variables"
   ]
  },
  {
   "cell_type": "code",
   "execution_count": 8,
   "metadata": {
    "collapsed": true
   },
   "outputs": [],
   "source": [
    "num_col = [item[0] for item in churn_data.dtypes if item[1] != 'string' and item[1] != 'timestamp']"
   ]
  },
  {
   "cell_type": "code",
   "execution_count": 333,
   "metadata": {},
   "outputs": [
    {
     "name": "stdout",
     "output_type": "stream",
     "text": [
      "['Age', 'Total_Purchase', 'Account_Manager', 'Years', 'Num_Sites', 'Churn']\n"
     ]
    }
   ],
   "source": [
    "print(num_col)"
   ]
  },
  {
   "cell_type": "code",
   "execution_count": 9,
   "metadata": {
    "collapsed": true
   },
   "outputs": [],
   "source": [
    "summary_data = churn_data.select(num_col).describe().cache()"
   ]
  },
  {
   "cell_type": "code",
   "execution_count": 10,
   "metadata": {},
   "outputs": [
    {
     "name": "stdout",
     "output_type": "stream",
     "text": [
      "+-------+-----------------+-----------------+------------------+-----------------+------------------+-------------------+\n",
      "|summary|              Age|   Total_Purchase|   Account_Manager|            Years|         Num_Sites|              Churn|\n",
      "+-------+-----------------+-----------------+------------------+-----------------+------------------+-------------------+\n",
      "|  count|              900|              900|               900|              900|               900|                900|\n",
      "|   mean|41.81666666666667|10062.82403333334|0.4811111111111111| 5.27315555555555| 8.587777777777777|0.16666666666666666|\n",
      "| stddev|6.127560416916251|2408.644531858096|0.4999208935073339|1.274449013194616|1.7648355920350969| 0.3728852122772358|\n",
      "|    min|             22.0|            100.0|                 0|              1.0|               3.0|                  0|\n",
      "|    max|             65.0|         18026.01|                 1|             9.15|              14.0|                  1|\n",
      "+-------+-----------------+-----------------+------------------+-----------------+------------------+-------------------+\n",
      "\n"
     ]
    }
   ],
   "source": [
    "summary_data.show()"
   ]
  },
  {
   "cell_type": "markdown",
   "metadata": {},
   "source": [
    "Let's format the table so that only the first 2 decimals values are displayed "
   ]
  },
  {
   "cell_type": "code",
   "execution_count": 11,
   "metadata": {
    "collapsed": true
   },
   "outputs": [],
   "source": [
    "summary_data2 = summary_data.select(summary_data['summary'],*(format_number(col(c).cast(\"float\"),2).alias(c) for c in num_col))"
   ]
  },
  {
   "cell_type": "code",
   "execution_count": 12,
   "metadata": {},
   "outputs": [
    {
     "name": "stdout",
     "output_type": "stream",
     "text": [
      "+-------+------+--------------+---------------+------+---------+------+\n",
      "|summary|   Age|Total_Purchase|Account_Manager| Years|Num_Sites| Churn|\n",
      "+-------+------+--------------+---------------+------+---------+------+\n",
      "|  count|900.00|        900.00|         900.00|900.00|   900.00|900.00|\n",
      "|   mean| 41.82|     10,062.82|           0.48|  5.27|     8.59|  0.17|\n",
      "| stddev|  6.13|      2,408.64|           0.50|  1.27|     1.76|  0.37|\n",
      "|    min| 22.00|        100.00|           0.00|  1.00|     3.00|  0.00|\n",
      "|    max| 65.00|     18,026.01|           1.00|  9.15|    14.00|  1.00|\n",
      "+-------+------+--------------+---------------+------+---------+------+\n",
      "\n"
     ]
    }
   ],
   "source": [
    "summary_data2.show()"
   ]
  },
  {
   "cell_type": "markdown",
   "metadata": {
    "collapsed": true
   },
   "source": [
    "From the above table we see that around 17% of customers have churned. Next we'll have a look at the Locaction column to see whether it's usable in our model"
   ]
  },
  {
   "cell_type": "code",
   "execution_count": 25,
   "metadata": {},
   "outputs": [
    {
     "name": "stdout",
     "output_type": "stream",
     "text": [
      "+---------------------------------------------------------------+-----+\n",
      "|Location                                                       |count|\n",
      "+---------------------------------------------------------------+-----+\n",
      "|7259 Brown Street Apt. 385 Monicaport, GU 05916-8374           |1    |\n",
      "|404 Joshua Estate Apt. 074 Jacobsonside, CT 88758-3164         |1    |\n",
      "|243 Laura Gateway Mitchellport, FL 53705-6256                  |1    |\n",
      "|81459 Sarah Brook Suite 370 Lake Michael, MA 20035-7310        |1    |\n",
      "|512 Wesley Stream West Scottborough, ND 44332-3438             |1    |\n",
      "|513 Bullock Alley New Diane, NM 39999                          |1    |\n",
      "|00154 Ashley Course Shannonville, UT 52907                     |1    |\n",
      "|062 Trevor Falls Suite 665 North Mathewchester, MH 93744       |1    |\n",
      "|066 Jenkins Walks Barbaramouth, LA 76409                       |1    |\n",
      "|30668 Isabella Freeway Suite 428 Lake Kellyhaven, MP 89074-5017|1    |\n",
      "|911 Kent Point Anthonytown, KS 47499                           |1    |\n",
      "|078 Nunez Haven Suite 032 East Bradley, SC 36621-1197          |1    |\n",
      "|PSC 5667, Box 8312 APO AP 00654                                |1    |\n",
      "|4972 Michael Village Suite 788 West Rachelstad, NH 04946-6243  |1    |\n",
      "|567 Ian Loop Lambertberg, MA 68810-6480                        |1    |\n",
      "|482 Wells Mountain New Jason, AL 66002                         |1    |\n",
      "|45946 Day Springs Mendozastad, NJ 46404                        |1    |\n",
      "|143 Andrea Flat Lake Michael, ID 33149                         |1    |\n",
      "|Unit 2093 Box 1530 DPO AA 53596-7800                           |1    |\n",
      "|399 Herbert Key Port Thomas, PR 14265                          |1    |\n",
      "+---------------------------------------------------------------+-----+\n",
      "only showing top 20 rows\n",
      "\n"
     ]
    }
   ],
   "source": [
    "churn_data.groupBy('Location').count().orderBy(desc('count')).show(n=20,truncate=False)"
   ]
  },
  {
   "cell_type": "markdown",
   "metadata": {},
   "source": [
    "We can text mine the State as a second iteration to the model. But for now we'll discount this field. Next we'll draw some histograms of the variables. Since there are only 900 observations in this data set (this data set is used purely for illustration purposes to show the capabilities of Spark) we can easily convert this Data frame to a panda Data frame. In the case of billion of records, I would suggest drawing a random sample of the data for plotting purposes"
   ]
  },
  {
   "cell_type": "code",
   "execution_count": 26,
   "metadata": {
    "collapsed": true
   },
   "outputs": [],
   "source": [
    "churn_panda_df = churn_data.toPandas()\n"
   ]
  },
  {
   "cell_type": "code",
   "execution_count": 27,
   "metadata": {
    "collapsed": true
   },
   "outputs": [],
   "source": [
    "x_vars = [var for var in num_col if var != 'Account_Manager' and var != 'Churn']"
   ]
  },
  {
   "cell_type": "code",
   "execution_count": 28,
   "metadata": {},
   "outputs": [
    {
     "data": {
      "text/plain": [
       "['Age', 'Total_Purchase', 'Years', 'Num_Sites']"
      ]
     },
     "execution_count": 28,
     "metadata": {},
     "output_type": "execute_result"
    }
   ],
   "source": [
    "x_vars"
   ]
  },
  {
   "cell_type": "code",
   "execution_count": 162,
   "metadata": {},
   "outputs": [
    {
     "name": "stderr",
     "output_type": "stream",
     "text": [
      "/opt/anaconda2/envs/py345/lib/python3.4/site-packages/matplotlib/font_manager.py:1297: UserWarning: findfont: Font family ['sans-serif'] not found. Falling back to DejaVu Sans\n",
      "  (prop.get_family(), self.defaultFamily[fontext]))\n"
     ]
    },
    {
     "data": {
      "image/png": "[encoded data removed]",
      "text/plain": [
       "<matplotlib.figure.Figure at 0x7fbe6d09c3c8>"
      ]
     },
     "metadata": {},
     "output_type": "display_data"
    },
    {
     "data": {
      "image/png": "[encoded data removed]",
      "text/plain": [
       "<matplotlib.figure.Figure at 0x7fbe6dc2f278>"
      ]
     },
     "metadata": {},
     "output_type": "display_data"
    },
    {
     "data": {
      "image/png": "[encoded data removed]",
      "text/plain": [
       "<matplotlib.figure.Figure at 0x7fbe6d3d6fd0>"
      ]
     },
     "metadata": {},
     "output_type": "display_data"
    },
    {
     "data": {
      "image/png": "[encoded data removed]",
      "text/plain": [
       "<matplotlib.figure.Figure at 0x7fbe6e038630>"
      ]
     },
     "metadata": {},
     "output_type": "display_data"
    }
   ],
   "source": [
    "for var in x_vars:\n",
    "    sns.set_style(\"whitegrid\")     \n",
    "    bp = sns.boxplot(x='Churn',y=var,data=churn_panda_df)\n",
    "    bp.set_xticklabels([\"No\", \"Yes\"])\n",
    "    sns.plt.show()\n",
    "plt.close()"
   ]
  },
  {
   "cell_type": "markdown",
   "metadata": {},
   "source": [
    "From the above plots, we can see the Num_Sites, Years and age may be predictive of churn behaviour. Next we make use of the  VectorAssembler function to put the data in the required format that Spark expects- two columns with the names \"label\" and \"features\". The \"label\" column then needs to have the numerical label, either a regression numerical value, or a numerical value that matches to a classification grouping. The feature column has inside of it a vector of all the features that belong to that row. "
   ]
  },
  {
   "cell_type": "code",
   "execution_count": 30,
   "metadata": {
    "collapsed": true
   },
   "outputs": [],
   "source": [
    "assembler = VectorAssembler(inputCols= x_vars,outputCol='features')\n",
    "model_input_data = assembler.transform(churn_data)"
   ]
  },
  {
   "cell_type": "code",
   "execution_count": 32,
   "metadata": {},
   "outputs": [
    {
     "name": "stdout",
     "output_type": "stream",
     "text": [
      "+-------------------------+\n",
      "|features                 |\n",
      "+-------------------------+\n",
      "|[42.0,11066.8,7.22,8.0]  |\n",
      "|[41.0,11916.22,6.5,11.0] |\n",
      "|[38.0,12884.75,6.67,12.0]|\n",
      "|[42.0,8010.76,6.71,10.0] |\n",
      "|[37.0,9191.58,5.56,9.0]  |\n",
      "|[48.0,10356.02,5.12,8.0] |\n",
      "|[44.0,11331.58,5.23,11.0]|\n",
      "|[32.0,9885.12,6.92,9.0]  |\n",
      "|[43.0,14062.6,5.46,11.0] |\n",
      "|[40.0,8066.94,7.11,11.0] |\n",
      "+-------------------------+\n",
      "only showing top 10 rows\n",
      "\n"
     ]
    }
   ],
   "source": [
    "model_input_data.select('features').show(n=10,truncate=False)"
   ]
  },
  {
   "cell_type": "markdown",
   "metadata": {},
   "source": [
    "Next we split the dataset into a training and test dataset. We use a 70/30% training/test split"
   ]
  },
  {
   "cell_type": "code",
   "execution_count": 33,
   "metadata": {
    "collapsed": true
   },
   "outputs": [],
   "source": [
    "train_data, test_data = model_input_data.select(['features','Churn']).randomSplit([0.7,0.3],seed=1357)"
   ]
  },
  {
   "cell_type": "markdown",
   "metadata": {},
   "source": [
    "No we can fit the model to the training data!"
   ]
  },
  {
   "cell_type": "code",
   "execution_count": 34,
   "metadata": {
    "collapsed": true
   },
   "outputs": [],
   "source": [
    "lr_model = LogisticRegression(featuresCol = 'features',labelCol= 'Churn',).fit(train_data)"
   ]
  },
  {
   "cell_type": "markdown",
   "metadata": {},
   "source": [
    "Let's create a new object containing some of the summary measures of this model. And look at some stas on the predicted value "
   ]
  },
  {
   "cell_type": "code",
   "execution_count": 35,
   "metadata": {
    "collapsed": true
   },
   "outputs": [],
   "source": [
    "training_sum = lr_model.summary"
   ]
  },
  {
   "cell_type": "code",
   "execution_count": 274,
   "metadata": {},
   "outputs": [
    {
     "name": "stdout",
     "output_type": "stream",
     "text": [
      "+-------+-------------------+-------------------+\n",
      "|summary|              Churn|         prediction|\n",
      "+-------+-------------------+-------------------+\n",
      "|  count|                626|                626|\n",
      "|   mean|0.16293929712460065| 0.1134185303514377|\n",
      "| stddev| 0.3696056096831665|0.31735729856437317|\n",
      "|    min|                0.0|                0.0|\n",
      "|    max|                1.0|                1.0|\n",
      "+-------+-------------------+-------------------+\n",
      "\n"
     ]
    }
   ],
   "source": [
    "training_sum.predictions.describe().show()"
   ]
  },
  {
   "cell_type": "markdown",
   "metadata": {},
   "source": [
    "Next we'll evaluate this model on the test data by calculating the Area under the ROC curve (AUC)"
   ]
  },
  {
   "cell_type": "code",
   "execution_count": 38,
   "metadata": {
    "collapsed": true
   },
   "outputs": [],
   "source": [
    "test_results=lr_model.evaluate(test_data)"
   ]
  },
  {
   "cell_type": "code",
   "execution_count": 39,
   "metadata": {
    "collapsed": true
   },
   "outputs": [],
   "source": [
    "my_eval = BinaryClassificationEvaluator(rawPredictionCol='rawPrediction',\n",
    "                                       labelCol='Churn')"
   ]
  },
  {
   "cell_type": "code",
   "execution_count": 40,
   "metadata": {},
   "outputs": [
    {
     "name": "stdout",
     "output_type": "stream",
     "text": [
      "Area under the curve 0.91\n"
     ]
    }
   ],
   "source": [
    "print('Area under the curve {:1.2f}'.format(my_eval.evaluate(test_results.predictions)))"
   ]
  },
  {
   "cell_type": "markdown",
   "metadata": {},
   "source": [
    "Not bad for a first try! We can also plot this ROC curve "
   ]
  },
  {
   "cell_type": "code",
   "execution_count": 47,
   "metadata": {},
   "outputs": [],
   "source": [
    "ROC_coord = test_results.roc.toPandas()"
   ]
  },
  {
   "cell_type": "code",
   "execution_count": 51,
   "metadata": {},
   "outputs": [
    {
     "data": {
      "text/html": [
       "<div>\n",
       "<table border=\"1\" class=\"dataframe\">\n",
       "  <thead>\n",
       "    <tr style=\"text-align: right;\">\n",
       "      <th></th>\n",
       "      <th>FPR</th>\n",
       "      <th>TPR</th>\n",
       "    </tr>\n",
       "  </thead>\n",
       "  <tbody>\n",
       "    <tr>\n",
       "      <th>0</th>\n",
       "      <td>0.000000</td>\n",
       "      <td>0.000000</td>\n",
       "    </tr>\n",
       "    <tr>\n",
       "      <th>1</th>\n",
       "      <td>0.000000</td>\n",
       "      <td>0.041667</td>\n",
       "    </tr>\n",
       "    <tr>\n",
       "      <th>2</th>\n",
       "      <td>0.000000</td>\n",
       "      <td>0.083333</td>\n",
       "    </tr>\n",
       "    <tr>\n",
       "      <th>3</th>\n",
       "      <td>0.000000</td>\n",
       "      <td>0.125000</td>\n",
       "    </tr>\n",
       "    <tr>\n",
       "      <th>4</th>\n",
       "      <td>0.004425</td>\n",
       "      <td>0.145833</td>\n",
       "    </tr>\n",
       "  </tbody>\n",
       "</table>\n",
       "</div>"
      ],
      "text/plain": [
       "        FPR       TPR\n",
       "0  0.000000  0.000000\n",
       "1  0.000000  0.041667\n",
       "2  0.000000  0.083333\n",
       "3  0.000000  0.125000\n",
       "4  0.004425  0.145833"
      ]
     },
     "execution_count": 51,
     "metadata": {},
     "output_type": "execute_result"
    }
   ],
   "source": [
    "ROC_coord.head()"
   ]
  },
  {
   "cell_type": "code",
   "execution_count": 54,
   "metadata": {},
   "outputs": [
    {
     "data": {
      "text/plain": [
       "0.9111356932153403"
      ]
     },
     "execution_count": 54,
     "metadata": {},
     "output_type": "execute_result"
    }
   ],
   "source": [
    "my_eval.evaluate(test_results.predictions)"
   ]
  },
  {
   "cell_type": "code",
   "execution_count": 55,
   "metadata": {},
   "outputs": [],
   "source": [
    "def draw_roc(fpr,tpr,roc_auc=my_eval.evaluate(test_results.predictions)):\n",
    " \n",
    "    plt.figure()\n",
    "    lw = 2\n",
    "    plt.plot(fpr, tpr, color='darkorange',\n",
    "         lw=lw, label='ROC curve (area = %0.2f)' % roc_auc)\n",
    "    plt.plot([0, 1], [0, 1], color='navy', lw=lw, linestyle='--')\n",
    "    plt.xlim([0.0, 1.0])\n",
    "    plt.ylim([0.0, 1.05])\n",
    "    plt.xlabel('False Positive Rate')\n",
    "    plt.ylabel('True Positive Rate')\n",
    "    plt.legend(loc=\"lower right\")\n",
    "    plt.show()\n"
   ]
  },
  {
   "cell_type": "code",
   "execution_count": 56,
   "metadata": {},
   "outputs": [
    {
     "name": "stderr",
     "output_type": "stream",
     "text": [
      "/opt/anaconda2/envs/py345/lib/python3.4/site-packages/matplotlib/font_manager.py:1297: UserWarning: findfont: Font family ['sans-serif'] not found. Falling back to DejaVu Sans\n",
      "  (prop.get_family(), self.defaultFamily[fontext]))\n"
     ]
    },
    {
     "data": {
      "image/png": "[encoded data removed]",
      "text/plain": [
       "<matplotlib.figure.Figure at 0x7f0db9a80978>"
      ]
     },
     "metadata": {},
     "output_type": "display_data"
    }
   ],
   "source": [
    "draw_roc(ROC_coord['FPR'],ROC_coord['TPR'])"
   ]
  },
  {
   "cell_type": "markdown",
   "metadata": {},
   "source": [
    "Next we'll create a lift chart/table. Spark has a nufty function called QuantileDiscretizer that will do all the heavy lifting. We first need the predicted probabilities. We can use the transform function to get the test data set with the probabilities"
   ]
  },
  {
   "cell_type": "code",
   "execution_count": 58,
   "metadata": {
    "collapsed": true
   },
   "outputs": [],
   "source": [
    "test_data_predictions =  lr_model.transform(test_data)"
   ]
  },
  {
   "cell_type": "code",
   "execution_count": 64,
   "metadata": {},
   "outputs": [
    {
     "name": "stdout",
     "output_type": "stream",
     "text": [
      "+--------------------+-----+--------------------+--------------------+----------+\n",
      "|            features|Churn|       rawPrediction|         probability|prediction|\n",
      "+--------------------+-----+--------------------+--------------------+----------+\n",
      "|[25.0,9672.03,5.4...|    0|[4.41471039278145...|[0.98804655614619...|       0.0|\n",
      "|[26.0,8939.61,4.5...|    0|[6.07247498674469...|[0.99769984276055...|       0.0|\n",
      "|[27.0,8628.8,5.3,...|    0|[5.61814888405608...|[0.99638178208687...|       0.0|\n",
      "|[29.0,10203.18,5....|    0|[4.00878451449049...|[0.98216829313717...|       0.0|\n",
      "|[30.0,10744.14,7....|    1|[2.02966613642464...|[0.88387681503562...|       0.0|\n",
      "|[30.0,13473.35,3....|    0|[2.53336764201563...|[0.92644816096044...|       0.0|\n",
      "|[31.0,5304.6,5.29...|    0|[2.91829030117372...|[0.94874322100595...|       0.0|\n",
      "|[31.0,5387.75,6.8...|    0|[2.12051640821342...|[0.89288133101659...|       0.0|\n",
      "|[31.0,7073.61,5.7...|    0|[2.69717312587216...|[0.93685963034663...|       0.0|\n",
      "|[31.0,9574.89,7.3...|    0|[3.10010625125858...|[0.95689712760639...|       0.0|\n",
      "|[32.0,5756.12,5.9...|    0|[3.77221656714800...|[0.97751612862370...|       0.0|\n",
      "|[32.0,6367.22,2.8...|    0|[2.90536199202185...|[0.94811086370928...|       0.0|\n",
      "|[32.0,8011.38,5.3...|    0|[1.61098798039660...|[0.83354850932812...|       0.0|\n",
      "|[32.0,8617.98,6.2...|    1|[1.17284875646239...|[0.76365955578281...|       0.0|\n",
      "|[32.0,9885.12,6.9...|    1|[2.03219931700570...|[0.88413656439411...|       0.0|\n",
      "|[32.0,11715.72,4....|    0|[3.17430956120750...|[0.95985597216494...|       0.0|\n",
      "|[32.0,12254.75,5....|    0|[2.87065030250838...|[0.94637635922074...|       0.0|\n",
      "|[32.0,13630.93,4....|    0|[2.13564057117053...|[0.89431929857176...|       0.0|\n",
      "|[33.0,4711.89,4.9...|    0|[5.41839808657520...|[0.99558533148161...|       0.0|\n",
      "|[33.0,7750.54,4.5...|    0|[4.41003036415129...|[0.98799115595488...|       0.0|\n",
      "+--------------------+-----+--------------------+--------------------+----------+\n",
      "only showing top 20 rows\n",
      "\n"
     ]
    }
   ],
   "source": [
    "test_data_predictions.show()"
   ]
  },
  {
   "cell_type": "code",
   "execution_count": 63,
   "metadata": {},
   "outputs": [
    {
     "name": "stdout",
     "output_type": "stream",
     "text": [
      "root\n",
      " |-- features: vector (nullable = true)\n",
      " |-- Churn: integer (nullable = true)\n",
      " |-- rawPrediction: vector (nullable = true)\n",
      " |-- probability: vector (nullable = true)\n",
      " |-- prediction: double (nullable = true)\n",
      "\n"
     ]
    }
   ],
   "source": [
    "test_data_predictions.printSchema()"
   ]
  },
  {
   "cell_type": "markdown",
   "metadata": {},
   "source": [
    "We see the proability column is in a vector format. By viewing this field we see thhat iit contains 2 probabilities: \n",
    "* the first element in the vector refers to the porability of experiencing a non-event (not to churn)\n",
    "* the second element in the vector refers to the porability of experiencing an event (to churn)\n",
    "\n",
    "We therefore need to extract the probability to churn"
   ]
  },
  {
   "cell_type": "code",
   "execution_count": 65,
   "metadata": {},
   "outputs": [
    {
     "name": "stdout",
     "output_type": "stream",
     "text": [
      "+-----------------------------------------+\n",
      "|probability                              |\n",
      "+-----------------------------------------+\n",
      "|[0.9880465561461997,0.011953443853800268]|\n",
      "|[0.9976998427605586,0.002300157239441353]|\n",
      "+-----------------------------------------+\n",
      "only showing top 2 rows\n",
      "\n"
     ]
    }
   ],
   "source": [
    "test_data_predictions.select('probability').show(n=2,truncate=False)"
   ]
  },
  {
   "cell_type": "code",
   "execution_count": 70,
   "metadata": {
    "collapsed": true
   },
   "outputs": [],
   "source": [
    "lift_input_table = test_data_predictions.withColumn('Probability_churn',secondelement(col('probability')))\\\n",
    ".select('Churn','Probability_churn')"
   ]
  },
  {
   "cell_type": "code",
   "execution_count": 456,
   "metadata": {},
   "outputs": [
    {
     "name": "stdout",
     "output_type": "stream",
     "text": [
      "+-----+--------------------+\n",
      "|Churn|   Probability_churn|\n",
      "+-----+--------------------+\n",
      "|    0|0.011953443853800268|\n",
      "|    0|0.002300157239441353|\n",
      "|    0| 0.00361821791312011|\n",
      "|    0|0.017831706862820977|\n",
      "|    1| 0.11612318496437837|\n",
      "|    0|  0.0735518390395507|\n",
      "|    0| 0.05125677899404883|\n",
      "|    0|  0.1071186689834003|\n",
      "|    0| 0.06314036965336209|\n",
      "|    0|0.043102872393604406|\n",
      "|    0| 0.02248387137629221|\n",
      "|    0| 0.05188913629071872|\n",
      "|    0| 0.16645149067187462|\n",
      "|    1| 0.23634044421718062|\n",
      "|    1| 0.11586343560588541|\n",
      "|    0|0.040144027835055794|\n",
      "|    0| 0.05362364077925365|\n",
      "|    0| 0.10568070142823519|\n",
      "|    0|0.004414668518388807|\n",
      "|    0| 0.01200884404511694|\n",
      "+-----+--------------------+\n",
      "only showing top 20 rows\n",
      "\n"
     ]
    }
   ],
   "source": [
    "lift_input_table.show()"
   ]
  },
  {
   "cell_type": "markdown",
   "metadata": {},
   "source": [
    "Voila! Next we divide these probabilities into 10 deciles"
   ]
  },
  {
   "cell_type": "code",
   "execution_count": 71,
   "metadata": {
    "collapsed": true
   },
   "outputs": [],
   "source": [
    "deciles = QuantileDiscretizer(numBuckets=10,inputCol='Probability_churn',outputCol='Decile' )"
   ]
  },
  {
   "cell_type": "code",
   "execution_count": 72,
   "metadata": {
    "collapsed": true
   },
   "outputs": [],
   "source": [
    "lift_input_table2 =deciles.fit(lift_input_table).transform(lift_input_table)\n"
   ]
  },
  {
   "cell_type": "code",
   "execution_count": 73,
   "metadata": {},
   "outputs": [
    {
     "name": "stdout",
     "output_type": "stream",
     "text": [
      "+-----+--------------------+------+\n",
      "|Churn|   Probability_churn|Decile|\n",
      "+-----+--------------------+------+\n",
      "|    0|0.011953443853800268|   2.0|\n",
      "|    0|0.002300157239441353|   0.0|\n",
      "|    0| 0.00361821791312011|   0.0|\n",
      "|    0|0.017831706862820977|   2.0|\n",
      "|    1| 0.11612318496437837|   6.0|\n",
      "|    0|  0.0735518390395507|   5.0|\n",
      "|    0| 0.05125677899404883|   5.0|\n",
      "|    0|  0.1071186689834003|   6.0|\n",
      "|    0| 0.06314036965336209|   5.0|\n",
      "|    0|0.043102872393604406|   4.0|\n",
      "|    0| 0.02248387137629221|   3.0|\n",
      "|    0| 0.05188913629071872|   5.0|\n",
      "|    0| 0.16645149067187462|   7.0|\n",
      "|    1| 0.23634044421718062|   7.0|\n",
      "|    1| 0.11586343560588541|   6.0|\n",
      "|    0|0.040144027835055794|   4.0|\n",
      "|    0| 0.05362364077925365|   5.0|\n",
      "|    0| 0.10568070142823519|   6.0|\n",
      "|    0|0.004414668518388807|   1.0|\n",
      "|    0| 0.01200884404511694|   2.0|\n",
      "+-----+--------------------+------+\n",
      "only showing top 20 rows\n",
      "\n"
     ]
    }
   ],
   "source": [
    "lift_input_table2.show()"
   ]
  },
  {
   "cell_type": "markdown",
   "metadata": {},
   "source": [
    "Next we count the number of customers that fall into each decile as well as the number of customers that churned per decile. \n",
    "We can easily have converted this dataframe to a pandas data frame, but this is to show Spark's data wrangling capabilities"
   ]
  },
  {
   "cell_type": "code",
   "execution_count": 75,
   "metadata": {
    "collapsed": true
   },
   "outputs": [],
   "source": [
    "exprs = [sum(\"Churn\").alias('Number_churned'), count(\"Decile\").alias('Number_customers')]"
   ]
  },
  {
   "cell_type": "code",
   "execution_count": 103,
   "metadata": {
    "collapsed": true
   },
   "outputs": [],
   "source": [
    "lift_table = lift_input_table2.groupBy('Decile').agg(*exprs).orderBy(desc('Decile'))\n",
    "lift_table_pd = lift_table.toPandas()"
   ]
  },
  {
   "cell_type": "code",
   "execution_count": 88,
   "metadata": {},
   "outputs": [
    {
     "data": {
      "text/html": [
       "<div>\n",
       "<table border=\"1\" class=\"dataframe\">\n",
       "  <thead>\n",
       "    <tr style=\"text-align: right;\">\n",
       "      <th></th>\n",
       "      <th>Decile</th>\n",
       "      <th>Number_churned</th>\n",
       "      <th>Number_customers</th>\n",
       "    </tr>\n",
       "  </thead>\n",
       "  <tbody>\n",
       "    <tr>\n",
       "      <th>0</th>\n",
       "      <td>9.0</td>\n",
       "      <td>21</td>\n",
       "      <td>28</td>\n",
       "    </tr>\n",
       "    <tr>\n",
       "      <th>1</th>\n",
       "      <td>8.0</td>\n",
       "      <td>12</td>\n",
       "      <td>27</td>\n",
       "    </tr>\n",
       "    <tr>\n",
       "      <th>2</th>\n",
       "      <td>7.0</td>\n",
       "      <td>6</td>\n",
       "      <td>28</td>\n",
       "    </tr>\n",
       "    <tr>\n",
       "      <th>3</th>\n",
       "      <td>6.0</td>\n",
       "      <td>7</td>\n",
       "      <td>27</td>\n",
       "    </tr>\n",
       "    <tr>\n",
       "      <th>4</th>\n",
       "      <td>5.0</td>\n",
       "      <td>1</td>\n",
       "      <td>28</td>\n",
       "    </tr>\n",
       "    <tr>\n",
       "      <th>5</th>\n",
       "      <td>4.0</td>\n",
       "      <td>0</td>\n",
       "      <td>27</td>\n",
       "    </tr>\n",
       "    <tr>\n",
       "      <th>6</th>\n",
       "      <td>3.0</td>\n",
       "      <td>0</td>\n",
       "      <td>27</td>\n",
       "    </tr>\n",
       "    <tr>\n",
       "      <th>7</th>\n",
       "      <td>2.0</td>\n",
       "      <td>1</td>\n",
       "      <td>28</td>\n",
       "    </tr>\n",
       "    <tr>\n",
       "      <th>8</th>\n",
       "      <td>1.0</td>\n",
       "      <td>0</td>\n",
       "      <td>27</td>\n",
       "    </tr>\n",
       "    <tr>\n",
       "      <th>9</th>\n",
       "      <td>0.0</td>\n",
       "      <td>0</td>\n",
       "      <td>27</td>\n",
       "    </tr>\n",
       "  </tbody>\n",
       "</table>\n",
       "</div>"
      ],
      "text/plain": [
       "   Decile  Number_churned  Number_customers\n",
       "0     9.0              21                28\n",
       "1     8.0              12                27\n",
       "2     7.0               6                28\n",
       "3     6.0               7                27\n",
       "4     5.0               1                28\n",
       "5     4.0               0                27\n",
       "6     3.0               0                27\n",
       "7     2.0               1                28\n",
       "8     1.0               0                27\n",
       "9     0.0               0                27"
      ]
     },
     "execution_count": 88,
     "metadata": {},
     "output_type": "execute_result"
    }
   ],
   "source": [
    "lift_table_pd"
   ]
  },
  {
   "cell_type": "code",
   "execution_count": 104,
   "metadata": {
    "collapsed": true
   },
   "outputs": [],
   "source": [
    "lift_table_pd['prop_churned'] = lift_table_pd['Number_churned']/lift_table_pd['Number_customers']"
   ]
  },
  {
   "cell_type": "markdown",
   "metadata": {},
   "source": [
    "Next we'll calcuate the lift per decile"
   ]
  },
  {
   "cell_type": "code",
   "execution_count": 105,
   "metadata": {},
   "outputs": [],
   "source": [
    "overall_takeup =lift_table_pd['Number_churned'].sum()/lift_table_pd['Number_customers'].sum()"
   ]
  },
  {
   "cell_type": "code",
   "execution_count": 106,
   "metadata": {},
   "outputs": [],
   "source": [
    "lift_table_pd['prop_of_churn'] = lift_table_pd['Number_churned']/np.sum(lift_table_pd['Number_churned'])"
   ]
  },
  {
   "cell_type": "code",
   "execution_count": 107,
   "metadata": {
    "collapsed": true
   },
   "outputs": [],
   "source": [
    "lift_table_pd['Cummulative_churn']= lift_table_pd['prop_of_churn'].cumsum()"
   ]
  },
  {
   "cell_type": "code",
   "execution_count": 108,
   "metadata": {},
   "outputs": [],
   "source": [
    "lift_table_pd['Lift']= lift_table_pd['prop_churned']/overall_takeup"
   ]
  },
  {
   "cell_type": "code",
   "execution_count": 109,
   "metadata": {},
   "outputs": [
    {
     "data": {
      "text/html": [
       "<div>\n",
       "<table border=\"1\" class=\"dataframe\">\n",
       "  <thead>\n",
       "    <tr style=\"text-align: right;\">\n",
       "      <th></th>\n",
       "      <th>Decile</th>\n",
       "      <th>Number_churned</th>\n",
       "      <th>Number_customers</th>\n",
       "      <th>prop_churned</th>\n",
       "      <th>prop_of_churn</th>\n",
       "      <th>Cummulative_churn</th>\n",
       "      <th>Lift</th>\n",
       "    </tr>\n",
       "  </thead>\n",
       "  <tbody>\n",
       "    <tr>\n",
       "      <th>0</th>\n",
       "      <td>9.0</td>\n",
       "      <td>21</td>\n",
       "      <td>28</td>\n",
       "      <td>0.750000</td>\n",
       "      <td>0.437500</td>\n",
       "      <td>0.437500</td>\n",
       "      <td>4.281250</td>\n",
       "    </tr>\n",
       "    <tr>\n",
       "      <th>1</th>\n",
       "      <td>8.0</td>\n",
       "      <td>12</td>\n",
       "      <td>27</td>\n",
       "      <td>0.444444</td>\n",
       "      <td>0.250000</td>\n",
       "      <td>0.687500</td>\n",
       "      <td>2.537037</td>\n",
       "    </tr>\n",
       "    <tr>\n",
       "      <th>2</th>\n",
       "      <td>7.0</td>\n",
       "      <td>6</td>\n",
       "      <td>28</td>\n",
       "      <td>0.214286</td>\n",
       "      <td>0.125000</td>\n",
       "      <td>0.812500</td>\n",
       "      <td>1.223214</td>\n",
       "    </tr>\n",
       "    <tr>\n",
       "      <th>3</th>\n",
       "      <td>6.0</td>\n",
       "      <td>7</td>\n",
       "      <td>27</td>\n",
       "      <td>0.259259</td>\n",
       "      <td>0.145833</td>\n",
       "      <td>0.958333</td>\n",
       "      <td>1.479938</td>\n",
       "    </tr>\n",
       "    <tr>\n",
       "      <th>4</th>\n",
       "      <td>5.0</td>\n",
       "      <td>1</td>\n",
       "      <td>28</td>\n",
       "      <td>0.035714</td>\n",
       "      <td>0.020833</td>\n",
       "      <td>0.979167</td>\n",
       "      <td>0.203869</td>\n",
       "    </tr>\n",
       "    <tr>\n",
       "      <th>5</th>\n",
       "      <td>4.0</td>\n",
       "      <td>0</td>\n",
       "      <td>27</td>\n",
       "      <td>0.000000</td>\n",
       "      <td>0.000000</td>\n",
       "      <td>0.979167</td>\n",
       "      <td>0.000000</td>\n",
       "    </tr>\n",
       "    <tr>\n",
       "      <th>6</th>\n",
       "      <td>3.0</td>\n",
       "      <td>0</td>\n",
       "      <td>27</td>\n",
       "      <td>0.000000</td>\n",
       "      <td>0.000000</td>\n",
       "      <td>0.979167</td>\n",
       "      <td>0.000000</td>\n",
       "    </tr>\n",
       "    <tr>\n",
       "      <th>7</th>\n",
       "      <td>2.0</td>\n",
       "      <td>1</td>\n",
       "      <td>28</td>\n",
       "      <td>0.035714</td>\n",
       "      <td>0.020833</td>\n",
       "      <td>1.000000</td>\n",
       "      <td>0.203869</td>\n",
       "    </tr>\n",
       "    <tr>\n",
       "      <th>8</th>\n",
       "      <td>1.0</td>\n",
       "      <td>0</td>\n",
       "      <td>27</td>\n",
       "      <td>0.000000</td>\n",
       "      <td>0.000000</td>\n",
       "      <td>1.000000</td>\n",
       "      <td>0.000000</td>\n",
       "    </tr>\n",
       "    <tr>\n",
       "      <th>9</th>\n",
       "      <td>0.0</td>\n",
       "      <td>0</td>\n",
       "      <td>27</td>\n",
       "      <td>0.000000</td>\n",
       "      <td>0.000000</td>\n",
       "      <td>1.000000</td>\n",
       "      <td>0.000000</td>\n",
       "    </tr>\n",
       "  </tbody>\n",
       "</table>\n",
       "</div>"
      ],
      "text/plain": [
       "   Decile  Number_churned  Number_customers  prop_churned  prop_of_churn  \\\n",
       "0     9.0              21                28      0.750000       0.437500   \n",
       "1     8.0              12                27      0.444444       0.250000   \n",
       "2     7.0               6                28      0.214286       0.125000   \n",
       "3     6.0               7                27      0.259259       0.145833   \n",
       "4     5.0               1                28      0.035714       0.020833   \n",
       "5     4.0               0                27      0.000000       0.000000   \n",
       "6     3.0               0                27      0.000000       0.000000   \n",
       "7     2.0               1                28      0.035714       0.020833   \n",
       "8     1.0               0                27      0.000000       0.000000   \n",
       "9     0.0               0                27      0.000000       0.000000   \n",
       "\n",
       "   Cummulative_churn      Lift  \n",
       "0           0.437500  4.281250  \n",
       "1           0.687500  2.537037  \n",
       "2           0.812500  1.223214  \n",
       "3           0.958333  1.479938  \n",
       "4           0.979167  0.203869  \n",
       "5           0.979167  0.000000  \n",
       "6           0.979167  0.000000  \n",
       "7           1.000000  0.203869  \n",
       "8           1.000000  0.000000  \n",
       "9           1.000000  0.000000  "
      ]
     },
     "execution_count": 109,
     "metadata": {},
     "output_type": "execute_result"
    }
   ],
   "source": [
    "lift_table_pd"
   ]
  },
  {
   "cell_type": "markdown",
   "metadata": {},
   "source": [
    "Nice! We can immediately see that customers in the top decile has more than 4 times the likelihood to churn compared\n",
    "to the baseline. The top decile also contains 75% of customers who churned. Next we can draw up a lift graph containing all this info"
   ]
  },
  {
   "cell_type": "code",
   "execution_count": 151,
   "metadata": {},
   "outputs": [
    {
     "name": "stderr",
     "output_type": "stream",
     "text": [
      "/opt/anaconda2/envs/py345/lib/python3.4/site-packages/matplotlib/font_manager.py:1297: UserWarning: findfont: Font family ['sans-serif'] not found. Falling back to DejaVu Sans\n",
      "  (prop.get_family(), self.defaultFamily[fontext]))\n"
     ]
    },
    {
     "data": {
      "image/png": "[encoded data removed]",
      "text/plain": [
       "<matplotlib.figure.Figure at 0x7f0db6208f98>"
      ]
     },
     "metadata": {},
     "output_type": "display_data"
    }
   ],
   "source": [
    "plt.close()\n",
    "\n",
    "sns.set_style(style='white')\n",
    "    \n",
    "f, ax = plt.subplots(figsize=(17, 6))\n",
    "    \n",
    "sns.barplot(x='Decile',y='Cummulative_churn',data=lift_table_pd,label='Cummulative Churn',order=range(9,-1,-1),color='lightblue')\n",
    "ax2 = ax.twinx()\n",
    "sns.pointplot(x='Decile', y='Lift', data=lift_table_pd, ax=ax2,markers='',label='Lift',order=range(9,-1,-1))\n",
    "ax.set(ylabel='Cummulative churn')\n",
    "ax2.set(ylabel='Lift')\n",
    "sns.plt.title('lift chart')\n",
    "ax.legend(ncol=2, loc=2)\n",
    "vals = ax.get_yticks()\n",
    "ax.set_yticklabels(['{:3.0f}%'.format(x*100) for x in vals])\n",
    "x = plt.gca().axes.get_xlim()\n",
    "plt.plot(x, len(x) * [overall_takeup], lw=2, linestyle='--',color='red',label='test')\n",
    "         \n",
    "plt.show()"
   ]
  },
  {
   "cell_type": "markdown",
   "metadata": {},
   "source": [
    "This model is rank ordering more or less- i.e the lift is monotone decreasing except for a few bumps due to the small sample size"
   ]
  },
  {
   "cell_type": "markdown",
   "metadata": {},
   "source": [
    "Once we are happy, we fit the model on the whole base and productionalise to score new data"
   ]
  },
  {
   "cell_type": "code",
   "execution_count": 152,
   "metadata": {
    "collapsed": true
   },
   "outputs": [],
   "source": [
    "final_lr_model = LogisticRegression(featuresCol = 'features',labelCol= 'Churn',).fit(model_input_data)"
   ]
  },
  {
   "cell_type": "markdown",
   "metadata": {},
   "source": [
    "We now get new data we wan't to score"
   ]
  },
  {
   "cell_type": "code",
   "execution_count": 153,
   "metadata": {
    "collapsed": true
   },
   "outputs": [],
   "source": [
    "new_data = spark.read.csv('/user/a208669/new_customers.csv',inferSchema=True,header=True )"
   ]
  },
  {
   "cell_type": "code",
   "execution_count": 154,
   "metadata": {},
   "outputs": [
    {
     "name": "stdout",
     "output_type": "stream",
     "text": [
      "root\n",
      " |-- Names: string (nullable = true)\n",
      " |-- Age: double (nullable = true)\n",
      " |-- Total_Purchase: double (nullable = true)\n",
      " |-- Account_Manager: integer (nullable = true)\n",
      " |-- Years: double (nullable = true)\n",
      " |-- Num_Sites: double (nullable = true)\n",
      " |-- Onboard_date: timestamp (nullable = true)\n",
      " |-- Location: string (nullable = true)\n",
      " |-- Company: string (nullable = true)\n",
      "\n"
     ]
    }
   ],
   "source": [
    "new_data.printSchema()"
   ]
  },
  {
   "cell_type": "code",
   "execution_count": 344,
   "metadata": {
    "collapsed": true
   },
   "outputs": [],
   "source": [
    "new_data_to_score = assembler.transform(new_data).select('Names','Company','features')\n",
    "new_data_pred = final_lr_model.transform(new_data_to_score)"
   ]
  },
  {
   "cell_type": "code",
   "execution_count": 345,
   "metadata": {},
   "outputs": [
    {
     "name": "stdout",
     "output_type": "stream",
     "text": [
      "+--------------+----------------+--------------------+--------------------+--------------------+----------+\n",
      "|         Names|         Company|            features|       rawPrediction|         probability|prediction|\n",
      "+--------------+----------------+--------------------+--------------------+--------------------+----------+\n",
      "| Andrew Mccall|        King Ltd|[37.0,9935.53,7.7...|[2.41832366013597...|[0.91821394450559...|       0.0|\n",
      "|Michele Wright|   Cannon-Benson|[23.0,7526.94,9.2...|[-5.9906678174824...|[0.00249574827398...|       1.0|\n",
      "|  Jeremy Chang|Barron-Robertson|[65.0,100.0,1.0,1...|[-3.4325297516674...|[0.03129415226295...|       1.0|\n",
      "|Megan Ferguson|   Sexton-Golden|[32.0,6487.5,9.4,...|[-5.3429693908695...|[0.00475889563977...|       1.0|\n",
      "|  Taylor Young|        Wood LLC|[32.0,13147.71,10...|[1.28437178442218...|[0.78319303188952...|       0.0|\n",
      "| Jessica Drake|   Parks-Robbins|[22.0,8445.26,3.4...|[-1.4385210975368...|[0.19177446955641...|       1.0|\n",
      "+--------------+----------------+--------------------+--------------------+--------------------+----------+\n",
      "\n"
     ]
    }
   ],
   "source": [
    "new_data_pred.show()"
   ]
  },
  {
   "cell_type": "markdown",
   "metadata": {
    "collapsed": true
   },
   "source": [
    "We see that from the 6 new customers that we scored, 4 have a high likelihood of churning"
   ]
  },
  {
   "cell_type": "code",
   "execution_count": null,
   "metadata": {
    "collapsed": true
   },
   "outputs": [],
   "source": []
  }
 ],
 "metadata": {
  "kernelspec": {
   "display_name": "Python3.4.5_Spark2.1.0",
   "language": "python",
   "name": "py345_spark210"
  },
  "language_info": {
   "codemirror_mode": {
    "name": "ipython",
    "version": 3
   },
   "file_extension": ".py",
   "mimetype": "text/x-python",
   "name": "python",
   "nbconvert_exporter": "python",
   "pygments_lexer": "ipython3",
   "version": "3.4.5"
  }
 },
 "nbformat": 4,
 "nbformat_minor": 2
}
