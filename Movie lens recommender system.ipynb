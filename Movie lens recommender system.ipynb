{
 "cells": [
  {
   "cell_type": "markdown",
   "metadata": {},
   "source": [
    "# Background\n",
    "\n",
    "In this project we'll use the famous movie lens dataset to build a recommender system. (Availible here: : http://grouplens.org/datasets/movielens/latest/). We'll use the full one containing 26 million ratings. \n",
    "\n",
    "Movies Data File Structure (movies.csv)\n",
    "---------------------------------------\n",
    "\n",
    "Movie information is contained in the file `movies.csv`. Each line of this file after the header row represents one movie, and has the following format:\n",
    "\n",
    "    movieId,title,genres\n",
    "\n",
    "Movie titles are entered manually or imported from <https://www.themoviedb.org/>, and include the year of release in parentheses. Errors and inconsistencies may exist in these titles.\n",
    "\n",
    "Genres are a pipe-separated list, and are selected from the following:\n",
    "\n",
    "* Action\n",
    "* Adventure\n",
    "* Animation\n",
    "* Children's\n",
    "* Comedy\n",
    "* Crime\n",
    "* Documentary\n",
    "* Drama\n",
    "* Fantasy\n",
    "* Film-Noir\n",
    "* Horror\n",
    "* Musical\n",
    "* Mystery\n",
    "* Romance\n",
    "* Sci-Fi\n",
    "* Thriller\n",
    "* War\n",
    "* Western\n",
    "* (no genres listed)\n",
    "\n",
    "Ratings Data File Structure (ratings.csv)\n",
    "-----------------------------------------\n",
    "\n",
    "All ratings are contained in the file `ratings.csv`. Each line of this file after the header row represents one rating of one movie by one user, and has the following format:\n",
    "\n",
    "    userId,movieId,rating,timestamp\n",
    "\n",
    "The lines within this file are ordered first by userId, then, within user, by movieId.\n",
    "\n",
    "Ratings are made on a 5-star scale, with half-star increments (0.5 stars - 5.0 stars).\n",
    "\n",
    "Timestamps represent seconds since midnight Coordinated Universal Time (UTC) of January 1, 1970.\n",
    "\n",
    "\n"
   ]
  },
  {
   "cell_type": "markdown",
   "metadata": {},
   "source": [
    "Firstly we'll start a new spark session and load all the required libraries that will be used in this project"
   ]
  },
  {
   "cell_type": "code",
   "execution_count": 43,
   "metadata": {
    "collapsed": true
   },
   "outputs": [],
   "source": [
    "from pyspark.sql import SparkSession\n",
    "from pyspark.ml.recommendation import ALS\n",
    "from pyspark.sql.functions import avg,count, lit, col\n",
    "from pyspark.ml.evaluation import RegressionEvaluator\n",
    "spark = SparkSession.builder.appName('Recommender').getOrCreate()\n",
    "import time\n",
    "import math"
   ]
  },
  {
   "cell_type": "markdown",
   "metadata": {},
   "source": [
    "Next we'll import the ratings and movies datasets"
   ]
  },
  {
   "cell_type": "code",
   "execution_count": 4,
   "metadata": {
    "collapsed": true
   },
   "outputs": [],
   "source": [
    "ratings_data = spark.read.csv(\"/user/a208669/recommendation_data/movie_lens/ratings.csv\",inferSchema=True,header=True)\n",
    "movie_data = spark.read.csv(\"/user/a208669/recommendation_data/movie_lens/movies.csv\",inferSchema=True,header=True)\n"
   ]
  },
  {
   "cell_type": "markdown",
   "metadata": {},
   "source": [
    "We'll have a quick look at the structure of the data"
   ]
  },
  {
   "cell_type": "code",
   "execution_count": 4,
   "metadata": {},
   "outputs": [
    {
     "name": "stdout",
     "output_type": "stream",
     "text": [
      "root\n",
      " |-- userId: integer (nullable = true)\n",
      " |-- movieId: integer (nullable = true)\n",
      " |-- rating: double (nullable = true)\n",
      " |-- timestamp: integer (nullable = true)\n",
      "\n",
      "None\n",
      "root\n",
      " |-- movieId: integer (nullable = true)\n",
      " |-- title: string (nullable = true)\n",
      " |-- genres: string (nullable = true)\n",
      "\n",
      "None\n"
     ]
    }
   ],
   "source": [
    "print(ratings_data.printSchema())\n",
    "print(movie_data.printSchema())"
   ]
  },
  {
   "cell_type": "code",
   "execution_count": 5,
   "metadata": {},
   "outputs": [
    {
     "name": "stdout",
     "output_type": "stream",
     "text": [
      "+-------+-----------------+------------------+------------------+--------------------+\n",
      "|summary|           userId|           movieId|            rating|           timestamp|\n",
      "+-------+-----------------+------------------+------------------+--------------------+\n",
      "|  count|         26024289|          26024289|          26024289|            26024289|\n",
      "|   mean| 135037.090248114|15849.109677040553|3.5280903543608817| 1.171258432691322E9|\n",
      "| stddev|78176.19722170367| 31085.25753139178| 1.065442763666231|2.0528887028184628E8|\n",
      "|    min|                1|                 1|               0.5|           789652004|\n",
      "|    max|           270896|            176275|               5.0|          1501829870|\n",
      "+-------+-----------------+------------------+------------------+--------------------+\n",
      "\n"
     ]
    }
   ],
   "source": [
    "ratings_data.describe().show()"
   ]
  },
  {
   "cell_type": "markdown",
   "metadata": {},
   "source": [
    "Let's see which movies are the most popular of all times. Let's only cosider movies that were rated by at least a thousand users so as not to bias the results"
   ]
  },
  {
   "cell_type": "code",
   "execution_count": 16,
   "metadata": {
    "collapsed": true
   },
   "outputs": [],
   "source": [
    "mean_ratings = ratings_data.groupBy('movieId').agg(avg(\"rating\").alias(\"Mean_rating\"),count(\"userId\").alias(\"Number_users\"))"
   ]
  },
  {
   "cell_type": "code",
   "execution_count": 18,
   "metadata": {
    "collapsed": true
   },
   "outputs": [],
   "source": [
    "mean_ratings_with_name = mean_ratings.join(movie_data,on='movieId',how='inner')"
   ]
  },
  {
   "cell_type": "code",
   "execution_count": 19,
   "metadata": {},
   "outputs": [
    {
     "name": "stdout",
     "output_type": "stream",
     "text": [
      "+-------+------------------+------------+-------------------------------------------+---------------------------+\n",
      "|movieId|Mean_rating       |Number_users|title                                      |genres                     |\n",
      "+-------+------------------+------------+-------------------------------------------+---------------------------+\n",
      "|318    |4.429014514393623 |91082       |Shawshank Redemption, The (1994)           |Crime|Drama                |\n",
      "|858    |4.339810758717364 |57070       |Godfather, The (1972)                      |Crime|Drama                |\n",
      "|50     |4.300188962561792 |59271       |Usual Suspects, The (1995)                 |Crime|Mystery|Thriller     |\n",
      "|527    |4.266530696698294 |67662       |Schindler's List (1993)                    |Drama|War                  |\n",
      "|1221   |4.263475012950189 |36679       |Godfather: Part II, The (1974)             |Crime|Drama                |\n",
      "|2019   |4.255073602972702 |13994       |Seven Samurai (Shichinin no samurai) (1954)|Action|Adventure|Drama     |\n",
      "|904    |4.232552144363722 |21335       |Rear Window (1954)                         |Mystery|Thriller           |\n",
      "|1203   |4.231208570075758 |16896       |12 Angry Men (1957)                        |Drama                      |\n",
      "|2959   |4.2307160469145675|60024       |Fight Club (1999)                          |Action|Crime|Drama|Thriller|\n",
      "|1193   |4.22913497743311  |40103       |One Flew Over the Cuckoo's Nest (1975)     |Drama                      |\n",
      "+-------+------------------+------------+-------------------------------------------+---------------------------+\n",
      "only showing top 10 rows\n",
      "\n"
     ]
    }
   ],
   "source": [
    "mean_ratings_with_name.filter(mean_ratings_with_name[\"Number_users\"] >= 1000).orderBy('Mean_rating',ascending=False).show(n=10,truncate=False)"
   ]
  },
  {
   "cell_type": "markdown",
   "metadata": {},
   "source": [
    "Good choices! Let's build our first recommender. We'll first split our data into a training and test set"
   ]
  },
  {
   "cell_type": "code",
   "execution_count": 5,
   "metadata": {
    "collapsed": true
   },
   "outputs": [],
   "source": [
    "train, test = ratings_data.randomSplit([0.7,0.3],seed=8734)"
   ]
  },
  {
   "cell_type": "markdown",
   "metadata": {},
   "source": [
    "The hard part is usually to get the data in the required format so that Spark can work with it. Fortunately all the hard work has already been done. spark.ml currently supports model-based collaborative filtering, in which users and products are described by a small set of latent factors that can be used to predict missing entries. spark.ml uses the alternating least squares (ALS) algorithm to learn these latent factors. The implementation in spark.ml has the following parameters:\n",
    "\n",
    "* numBlocks is the number of blocks the users and items will be partitioned into in order to parallelize computation (defaults to 10).\n",
    "* rank is the number of latent factors in the model (defaults to 10).\n",
    "* maxIter is the maximum number of iterations to run (defaults to 10).\n",
    "* regParam specifies the regularization parameter in ALS (defaults to 1.0).\n",
    "* implicitPrefs specifies whether to use the explicit feedback ALS variant or one adapted for implicit feedback data (defaults to false which means using explicit feedback).\n",
    "* alpha is a parameter applicable to the implicit feedback variant of ALS that governs the baseline confidence in preference observations (defaults to 1.0).\n",
    "* nonnegative specifies whether or not to use nonnegative constraints for least squares (defaults to false).\n",
    "\n",
    "We'll use a regParam value of 0.01 and leave the rest at the default values"
   ]
  },
  {
   "cell_type": "code",
   "execution_count": 6,
   "metadata": {},
   "outputs": [
    {
     "name": "stdout",
     "output_type": "stream",
     "text": [
      "26.17970609664917\n"
     ]
    }
   ],
   "source": [
    "start = time.time()\n",
    "als = ALS(maxIter=10, regParam=0.01, userCol=\"userId\", itemCol=\"movieId\", ratingCol=\"rating\",seed=9834)\n",
    "model = als.fit(train)\n",
    "end = time.time()\n",
    "print(end - start)"
   ]
  },
  {
   "cell_type": "markdown",
   "metadata": {},
   "source": [
    "Not bad. The model trained in 26 seconds!  Let's evaluate the model by computing the RMSE on the test data"
   ]
  },
  {
   "cell_type": "code",
   "execution_count": 7,
   "metadata": {},
   "outputs": [
    {
     "name": "stdout",
     "output_type": "stream",
     "text": [
      "Root mean square error = nan\n"
     ]
    }
   ],
   "source": [
    "predictions = model.transform(test)\n",
    "evaluator = RegressionEvaluator(metricName=\"rmse\", labelCol=\"rating\",predictionCol=\"prediction\")\n",
    "rmse = evaluator.evaluate(predictions)\n",
    "print(\"Root mean square error = \" + str(rmse))\n"
   ]
  },
  {
   "cell_type": "markdown",
   "metadata": {},
   "source": [
    "The reason we get nan for the RMSE is due to the fact that the verion of Spark we're using (2.1.0) hasn't implemented the coldStartStrategy  options yet (only availible in Spark 2.2 and newer).\n",
    "\n",
    "When making predictions using an ALSModel, it is common to encounter users and/or items in the test dataset that were not present during training the model. This typically occurs in two scenarios:\n",
    "\n",
    "In production, for new users or items that have no rating history and on which the model has not been trained (this is the “cold start problem”).\n",
    "During cross-validation, the data is split between training and evaluation sets. When using simple random splits as in Spark’s CrossValidator or TrainValidationSplit, it is actually very common to encounter users and/or items in the evaluation set that are not in the training set\n",
    "By default, Spark assigns NaN predictions during ALSModel.transform when a user and/or item factor is not present in the model. This can be useful in a production system, since it indicates a new user or item, and so the system can make a decision on some fallback to use as the prediction.\n",
    "\n",
    "\n",
    "So we'll have to manually calculate the RMSE :-)"
   ]
  },
  {
   "cell_type": "code",
   "execution_count": 8,
   "metadata": {
    "collapsed": true
   },
   "outputs": [],
   "source": [
    "predictions2= predictions.withColumn('Squared Error',(predictions['rating'] - predictions['prediction'])**2)"
   ]
  },
  {
   "cell_type": "code",
   "execution_count": 9,
   "metadata": {
    "collapsed": true
   },
   "outputs": [],
   "source": [
    "MSE = predictions2.na.drop(subset = 'Squared Error').select(avg('Squared Error')).collect()"
   ]
  },
  {
   "cell_type": "code",
   "execution_count": 10,
   "metadata": {},
   "outputs": [
    {
     "name": "stdout",
     "output_type": "stream",
     "text": [
      "RMSE : 0.8414258539029678\n"
     ]
    }
   ],
   "source": [
    "print(\"RMSE : {}\".format(math.sqrt(MSE[0][0])))"
   ]
  },
  {
   "cell_type": "markdown",
   "metadata": {},
   "source": [
    "Not brilliant but okay for an initial model"
   ]
  },
  {
   "cell_type": "code",
   "execution_count": 11,
   "metadata": {},
   "outputs": [
    {
     "name": "stdout",
     "output_type": "stream",
     "text": [
      "+-------+------------------+------------------+\n",
      "|summary|            rating|        prediction|\n",
      "+-------+------------------+------------------+\n",
      "|  count|           7804115|           7804115|\n",
      "|   mean|3.5281759046349266|3.4457082808430863|\n",
      "| stddev|1.0651522053984133|0.7905352470826391|\n",
      "|    min|               0.5|        -8.9178915|\n",
      "|    max|               5.0|         16.661182|\n",
      "+-------+------------------+------------------+\n",
      "\n"
     ]
    }
   ],
   "source": [
    "predictions_no_nulls = predictions.na.drop()\n",
    "predictions_no_nulls.select('rating','prediction').describe().show()"
   ]
  },
  {
   "cell_type": "markdown",
   "metadata": {},
   "source": [
    "We see some ratings are predicted as being negative or larger than 5. This is the disadvantage of using the ALS algorithm: the predicted values aren't bounded to be between 0 and 5. "
   ]
  },
  {
   "cell_type": "markdown",
   "metadata": {},
   "source": [
    "I've exported the movies I've rated from Movie Lens and will now give myself recommendations! Due to the cold start problem, I'll have to retrain the model however by including the new user. This is unfortunately a disadvantage of the current algorithm"
   ]
  },
  {
   "cell_type": "code",
   "execution_count": 14,
   "metadata": {
    "collapsed": true
   },
   "outputs": [],
   "source": [
    "my_ratings = spark.read.csv(\"/user/a208669/recommendation_data/movie_lens/Riaan_ratings.csv\",header=True,inferSchema=True)"
   ]
  },
  {
   "cell_type": "code",
   "execution_count": 21,
   "metadata": {},
   "outputs": [
    {
     "name": "stdout",
     "output_type": "stream",
     "text": [
      "+-------+-------+-------+------+--------------+--------------------+------+\n",
      "|movieId|imdb_id|tmdb_id|rating|average_rating|               title|userId|\n",
      "+-------+-------+-------+------+--------------+--------------------+------+\n",
      "|    260|  76759|     11|   4.0|       4.12524|    Star Wars (1977)|270897|\n",
      "|    608| 116282|    275|   3.5|       4.10569|        Fargo (1996)|270897|\n",
      "|    910|  53291|    239|   4.0|       4.03157|Some Like It Hot ...|270897|\n",
      "|   1193|  73486|    510|   4.0|       4.22633|One Flew Over the...|270897|\n",
      "|   1196|  80684|   1891|   4.0|       4.13686|The Empire Strike...|270897|\n",
      "|   1210|  86190|   1892|   4.0|       3.98753|Return of the Jed...|270897|\n",
      "|   1907| 120762|  10674|   4.0|       3.70162|        Mulan (1998)|270897|\n",
      "|   2067|  59113|    907|   5.0|       3.91923|Doctor Zhivago (1...|270897|\n",
      "|   2115|  87469|     87|   3.0|       3.69097|Indiana Jones and...|270897|\n",
      "|   2712| 120663|    345|   3.0|       3.23929|Eyes Wide Shut (1...|270897|\n",
      "|   2762| 167404|    745|   4.0|       4.01757|The Sixth Sense (...|270897|\n",
      "|   3147| 120689|    497|   4.0|       4.02239|The Green Mile (1...|270897|\n",
      "|   3793| 120903|  36657|   3.5|       3.56835|        X-Men (2000)|270897|\n",
      "|   4720| 230600|   1933|   4.0|       3.70815|   The Others (2001)|270897|\n",
      "|   4896| 241527|    671|   3.0|       3.66734|Harry Potter and ...|270897|\n",
      "|   4973| 211915|    194|   4.0|       4.12296|       Amélie (2001)|270897|\n",
      "|   4993| 120737|    120|   5.0|       4.10156|The Lord of the R...|270897|\n",
      "|   4995| 268978|    453|   4.0|       3.96184|A Beautiful Mind ...|270897|\n",
      "|   5218| 268380|    425|   4.0|       3.55787|      Ice Age (2002)|270897|\n",
      "|   5816| 295297|    672|   3.0|       3.62851|Harry Potter and ...|270897|\n",
      "+-------+-------+-------+------+--------------+--------------------+------+\n",
      "only showing top 20 rows\n",
      "\n"
     ]
    }
   ],
   "source": [
    "my_ratings.show()"
   ]
  },
  {
   "cell_type": "markdown",
   "metadata": {},
   "source": [
    "I'll give myself a new UserId that's not part of the original dataset"
   ]
  },
  {
   "cell_type": "code",
   "execution_count": 18,
   "metadata": {},
   "outputs": [],
   "source": [
    "my_ratings = my_ratings.withColumn('userId',lit(270897)).withColumnRenamed('movie_id','movieId')"
   ]
  },
  {
   "cell_type": "code",
   "execution_count": 19,
   "metadata": {},
   "outputs": [
    {
     "name": "stdout",
     "output_type": "stream",
     "text": [
      "root\n",
      " |-- movieId: integer (nullable = true)\n",
      " |-- imdb_id: integer (nullable = true)\n",
      " |-- tmdb_id: integer (nullable = true)\n",
      " |-- rating: double (nullable = true)\n",
      " |-- average_rating: double (nullable = true)\n",
      " |-- title: string (nullable = true)\n",
      " |-- userId: integer (nullable = false)\n",
      "\n"
     ]
    }
   ],
   "source": [
    "my_ratings.printSchema() "
   ]
  },
  {
   "cell_type": "code",
   "execution_count": 20,
   "metadata": {},
   "outputs": [
    {
     "name": "stdout",
     "output_type": "stream",
     "text": [
      "+-------+-------+-------+------+--------------+--------------------+------+\n",
      "|movieId|imdb_id|tmdb_id|rating|average_rating|               title|userId|\n",
      "+-------+-------+-------+------+--------------+--------------------+------+\n",
      "|    260|  76759|     11|   4.0|       4.12524|    Star Wars (1977)|270897|\n",
      "|    608| 116282|    275|   3.5|       4.10569|        Fargo (1996)|270897|\n",
      "|    910|  53291|    239|   4.0|       4.03157|Some Like It Hot ...|270897|\n",
      "|   1193|  73486|    510|   4.0|       4.22633|One Flew Over the...|270897|\n",
      "|   1196|  80684|   1891|   4.0|       4.13686|The Empire Strike...|270897|\n",
      "|   1210|  86190|   1892|   4.0|       3.98753|Return of the Jed...|270897|\n",
      "|   1907| 120762|  10674|   4.0|       3.70162|        Mulan (1998)|270897|\n",
      "|   2067|  59113|    907|   5.0|       3.91923|Doctor Zhivago (1...|270897|\n",
      "|   2115|  87469|     87|   3.0|       3.69097|Indiana Jones and...|270897|\n",
      "|   2712| 120663|    345|   3.0|       3.23929|Eyes Wide Shut (1...|270897|\n",
      "|   2762| 167404|    745|   4.0|       4.01757|The Sixth Sense (...|270897|\n",
      "|   3147| 120689|    497|   4.0|       4.02239|The Green Mile (1...|270897|\n",
      "|   3793| 120903|  36657|   3.5|       3.56835|        X-Men (2000)|270897|\n",
      "|   4720| 230600|   1933|   4.0|       3.70815|   The Others (2001)|270897|\n",
      "|   4896| 241527|    671|   3.0|       3.66734|Harry Potter and ...|270897|\n",
      "|   4973| 211915|    194|   4.0|       4.12296|       Amélie (2001)|270897|\n",
      "|   4993| 120737|    120|   5.0|       4.10156|The Lord of the R...|270897|\n",
      "|   4995| 268978|    453|   4.0|       3.96184|A Beautiful Mind ...|270897|\n",
      "|   5218| 268380|    425|   4.0|       3.55787|      Ice Age (2002)|270897|\n",
      "|   5816| 295297|    672|   3.0|       3.62851|Harry Potter and ...|270897|\n",
      "+-------+-------+-------+------+--------------+--------------------+------+\n",
      "only showing top 20 rows\n",
      "\n"
     ]
    }
   ],
   "source": [
    "my_ratings.show()"
   ]
  },
  {
   "cell_type": "code",
   "execution_count": 22,
   "metadata": {},
   "outputs": [],
   "source": [
    "new_train =train.select(train.columns[0:-1]).union(my_ratings.select(train.columns[0:-1]))\n"
   ]
  },
  {
   "cell_type": "code",
   "execution_count": 24,
   "metadata": {},
   "outputs": [
    {
     "name": "stdout",
     "output_type": "stream",
     "text": [
      "15.18872356414795\n"
     ]
    }
   ],
   "source": [
    "start = time.time()\n",
    "als = ALS(maxIter=10, regParam=0.01, userCol=\"userId\", itemCol=\"movieId\", ratingCol=\"rating\",seed=9834)\n",
    "model2 = als.fit(new_train)\n",
    "end = time.time()\n",
    "print(end - start)"
   ]
  },
  {
   "cell_type": "markdown",
   "metadata": {},
   "source": [
    "Next we'll create a list of all movies I haven't watched yet, so that we can run it through the recommendation system"
   ]
  },
  {
   "cell_type": "code",
   "execution_count": 25,
   "metadata": {
    "collapsed": true
   },
   "outputs": [],
   "source": [
    "new_user_ratings_ids = my_ratings.select('movieId')\n",
    "\n",
    "new_user_unrated_movies = movie_data.select('movieId').join(new_user_ratings_ids,how='left_anti',on='movieId')\\\n",
    ".withColumn('userId',lit(270897))"
   ]
  },
  {
   "cell_type": "code",
   "execution_count": 26,
   "metadata": {
    "collapsed": true
   },
   "outputs": [],
   "source": [
    "new_user_recommendations =model2.transform(new_user_unrated_movies).join(movie_data,on='movieId',how='left')\\\n",
    ".na.drop().cache()"
   ]
  },
  {
   "cell_type": "markdown",
   "metadata": {},
   "source": [
    "Let's see the recommendations"
   ]
  },
  {
   "cell_type": "code",
   "execution_count": 29,
   "metadata": {},
   "outputs": [
    {
     "name": "stdout",
     "output_type": "stream",
     "text": [
      "+---------------------------------------------+--------------------------+----------+\n",
      "|title                                        |genres                    |prediction|\n",
      "+---------------------------------------------+--------------------------+----------+\n",
      "|The Tom Green Subway Monkey Hour (2002)      |Comedy                    |11.610085 |\n",
      "|Pumpkin Pie Wars (2016)                      |Romance                   |9.63825   |\n",
      "|James White (2015)                           |Drama                     |9.420428  |\n",
      "|The Winslow Boy (1948)                       |Children|Crime|Drama      |8.738054  |\n",
      "|The Phenom (2016)                            |Drama                     |8.634741  |\n",
      "|Romantically Speaking (2015)                 |Children|Romance          |8.3375635 |\n",
      "|Naked as We Came (2013)                      |(no genres listed)        |8.240689  |\n",
      "|Apache Blood (1975)                          |Western                   |8.086406  |\n",
      "|Disney Sing Along Songs: Under the Sea (1990)|Animation|Children|Musical|8.005424  |\n",
      "|Sign 'o' the Times (1987)                    |Documentary|Musical       |7.7519283 |\n",
      "+---------------------------------------------+--------------------------+----------+\n",
      "only showing top 10 rows\n",
      "\n"
     ]
    }
   ],
   "source": [
    "new_user_recommendations.orderBy('prediction',ascending=False).select('title','genres','prediction').show(n=10,truncate=False)"
   ]
  },
  {
   "cell_type": "markdown",
   "metadata": {},
   "source": [
    "Can't say a lot of these titles speak to me, but I'm more of a Drama and Film-Noir fan! We also see a lot of ratings higher than 5"
   ]
  },
  {
   "cell_type": "code",
   "execution_count": 41,
   "metadata": {},
   "outputs": [
    {
     "name": "stdout",
     "output_type": "stream",
     "text": [
      "+-------+------+----------+-----------------------------+------------------------+\n",
      "|movieId|userId|prediction|title                        |genres                  |\n",
      "+-------+------+----------+-----------------------------+------------------------+\n",
      "|152123 |270897|9.420428  |James White (2015)           |Drama                   |\n",
      "|69072  |270897|8.738054  |The Winslow Boy (1948)       |Children|Crime|Drama    |\n",
      "|160678 |270897|8.634741  |The Phenom (2016)            |Drama                   |\n",
      "|170997 |270897|7.2841096 |Shala (2011)                 |Drama                   |\n",
      "|112577 |270897|7.179922  |Willie & Phil (1980)         |Comedy|Drama|Romance    |\n",
      "|118236 |270897|7.142202  |Bleak Night (2010)           |Drama                   |\n",
      "|153026 |270897|6.96825   |Oriental Elegy (1996)        |Drama                   |\n",
      "|169682 |270897|6.963565  |Fare (2017)                  |Drama|Thriller          |\n",
      "|113632 |270897|6.9356084 |Other F Word, The (2011)     |Comedy|Documentary|Drama|\n",
      "|90795  |270897|6.8485527 |Exercice de l'État, L' (2011)|Drama                   |\n",
      "+-------+------+----------+-----------------------------+------------------------+\n",
      "only showing top 10 rows\n",
      "\n"
     ]
    }
   ],
   "source": [
    "new_user_recommendations.filter(col('genres').like(\"%Drama%\")).orderBy('prediction',ascending=False).\\\n",
    "show(n=10,truncate=False)"
   ]
  },
  {
   "cell_type": "markdown",
   "metadata": {},
   "source": [
    "Looks much more interesting!"
   ]
  }
 ],
 "metadata": {
  "kernelspec": {
   "display_name": "Python3.4.5_Spark2.1.0",
   "language": "python",
   "name": "py345_spark210"
  },
  "language_info": {
   "codemirror_mode": {
    "name": "ipython",
    "version": 3
   },
   "file_extension": ".py",
   "mimetype": "text/x-python",
   "name": "python",
   "nbconvert_exporter": "python",
   "pygments_lexer": "ipython3",
   "version": "3.4.5"
  }
 },
 "nbformat": 4,
 "nbformat_minor": 2
}
